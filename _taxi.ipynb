{
 "cells": [
  {
   "cell_type": "code",
   "execution_count": 1,
   "id": "7bc53b1c",
   "metadata": {},
   "outputs": [],
   "source": [
    "import numpy as np\n",
    "import pandas as pd\n",
    "import matplotlib.pyplot as plt\n",
    "%matplotlib inline\n",
    "import seaborn as sns\n",
    "import math\n",
    "import random\n",
    "import pickle"
   ]
  },
  {
   "cell_type": "markdown",
   "id": "03d0ba84",
   "metadata": {},
   "source": [
    "# Get dataset"
   ]
  },
  {
   "cell_type": "code",
   "execution_count": 2,
   "id": "c6cd1c79",
   "metadata": {},
   "outputs": [],
   "source": [
    "name = sns.get_dataset_names()[-3]"
   ]
  },
  {
   "cell_type": "code",
   "execution_count": 3,
   "id": "7f31b90a",
   "metadata": {},
   "outputs": [],
   "source": [
    "#Saving the dataset to a variable called 'df' \n",
    "df = sns.load_dataset(name)"
   ]
  },
  {
   "cell_type": "code",
   "execution_count": 4,
   "id": "69d51397",
   "metadata": {},
   "outputs": [],
   "source": [
    "#Saving the data to the local\n",
    "#df.to_csv('_data_setup/data.csv',index=False)"
   ]
  },
  {
   "cell_type": "markdown",
   "id": "96714974",
   "metadata": {},
   "source": [
    "# Understanding the data"
   ]
  },
  {
   "cell_type": "code",
   "execution_count": 5,
   "id": "5cf55d2f",
   "metadata": {},
   "outputs": [
    {
     "data": {
      "text/html": [
       "<div>\n",
       "<style scoped>\n",
       "    .dataframe tbody tr th:only-of-type {\n",
       "        vertical-align: middle;\n",
       "    }\n",
       "\n",
       "    .dataframe tbody tr th {\n",
       "        vertical-align: top;\n",
       "    }\n",
       "\n",
       "    .dataframe thead th {\n",
       "        text-align: right;\n",
       "    }\n",
       "</style>\n",
       "<table border=\"1\" class=\"dataframe\">\n",
       "  <thead>\n",
       "    <tr style=\"text-align: right;\">\n",
       "      <th></th>\n",
       "      <th>pickup</th>\n",
       "      <th>dropoff</th>\n",
       "      <th>passengers</th>\n",
       "      <th>distance</th>\n",
       "      <th>fare</th>\n",
       "      <th>tip</th>\n",
       "      <th>tolls</th>\n",
       "      <th>total</th>\n",
       "      <th>color</th>\n",
       "      <th>payment</th>\n",
       "      <th>pickup_zone</th>\n",
       "      <th>dropoff_zone</th>\n",
       "      <th>pickup_borough</th>\n",
       "      <th>dropoff_borough</th>\n",
       "    </tr>\n",
       "  </thead>\n",
       "  <tbody>\n",
       "    <tr>\n",
       "      <th>3672</th>\n",
       "      <td>2019-03-06 17:01:34</td>\n",
       "      <td>2019-03-06 17:14:55</td>\n",
       "      <td>2</td>\n",
       "      <td>1.72</td>\n",
       "      <td>10.0</td>\n",
       "      <td>2.86</td>\n",
       "      <td>0.0</td>\n",
       "      <td>17.16</td>\n",
       "      <td>yellow</td>\n",
       "      <td>credit card</td>\n",
       "      <td>Upper East Side South</td>\n",
       "      <td>Yorkville East</td>\n",
       "      <td>Manhattan</td>\n",
       "      <td>Manhattan</td>\n",
       "    </tr>\n",
       "    <tr>\n",
       "      <th>1805</th>\n",
       "      <td>2019-03-18 20:39:17</td>\n",
       "      <td>2019-03-18 20:44:54</td>\n",
       "      <td>1</td>\n",
       "      <td>0.80</td>\n",
       "      <td>5.5</td>\n",
       "      <td>0.00</td>\n",
       "      <td>0.0</td>\n",
       "      <td>9.30</td>\n",
       "      <td>yellow</td>\n",
       "      <td>cash</td>\n",
       "      <td>Clinton East</td>\n",
       "      <td>East Chelsea</td>\n",
       "      <td>Manhattan</td>\n",
       "      <td>Manhattan</td>\n",
       "    </tr>\n",
       "    <tr>\n",
       "      <th>6348</th>\n",
       "      <td>2019-03-15 14:14:34</td>\n",
       "      <td>2019-03-15 14:26:41</td>\n",
       "      <td>1</td>\n",
       "      <td>1.80</td>\n",
       "      <td>9.5</td>\n",
       "      <td>0.00</td>\n",
       "      <td>0.0</td>\n",
       "      <td>10.30</td>\n",
       "      <td>green</td>\n",
       "      <td>cash</td>\n",
       "      <td>Crown Heights North</td>\n",
       "      <td>Crown Heights North</td>\n",
       "      <td>Brooklyn</td>\n",
       "      <td>Brooklyn</td>\n",
       "    </tr>\n",
       "    <tr>\n",
       "      <th>3699</th>\n",
       "      <td>2019-03-22 16:48:44</td>\n",
       "      <td>2019-03-22 16:55:06</td>\n",
       "      <td>1</td>\n",
       "      <td>0.40</td>\n",
       "      <td>5.5</td>\n",
       "      <td>1.95</td>\n",
       "      <td>0.0</td>\n",
       "      <td>11.75</td>\n",
       "      <td>yellow</td>\n",
       "      <td>credit card</td>\n",
       "      <td>Upper East Side South</td>\n",
       "      <td>Sutton Place/Turtle Bay North</td>\n",
       "      <td>Manhattan</td>\n",
       "      <td>Manhattan</td>\n",
       "    </tr>\n",
       "    <tr>\n",
       "      <th>3308</th>\n",
       "      <td>2019-03-18 22:01:16</td>\n",
       "      <td>2019-03-18 22:12:25</td>\n",
       "      <td>1</td>\n",
       "      <td>1.50</td>\n",
       "      <td>8.5</td>\n",
       "      <td>0.00</td>\n",
       "      <td>0.0</td>\n",
       "      <td>12.30</td>\n",
       "      <td>yellow</td>\n",
       "      <td>cash</td>\n",
       "      <td>Midtown North</td>\n",
       "      <td>Times Sq/Theatre District</td>\n",
       "      <td>Manhattan</td>\n",
       "      <td>Manhattan</td>\n",
       "    </tr>\n",
       "  </tbody>\n",
       "</table>\n",
       "</div>"
      ],
      "text/plain": [
       "                  pickup             dropoff  passengers  distance  fare  \\\n",
       "3672 2019-03-06 17:01:34 2019-03-06 17:14:55           2      1.72  10.0   \n",
       "1805 2019-03-18 20:39:17 2019-03-18 20:44:54           1      0.80   5.5   \n",
       "6348 2019-03-15 14:14:34 2019-03-15 14:26:41           1      1.80   9.5   \n",
       "3699 2019-03-22 16:48:44 2019-03-22 16:55:06           1      0.40   5.5   \n",
       "3308 2019-03-18 22:01:16 2019-03-18 22:12:25           1      1.50   8.5   \n",
       "\n",
       "       tip  tolls  total   color      payment            pickup_zone  \\\n",
       "3672  2.86    0.0  17.16  yellow  credit card  Upper East Side South   \n",
       "1805  0.00    0.0   9.30  yellow         cash           Clinton East   \n",
       "6348  0.00    0.0  10.30   green         cash    Crown Heights North   \n",
       "3699  1.95    0.0  11.75  yellow  credit card  Upper East Side South   \n",
       "3308  0.00    0.0  12.30  yellow         cash          Midtown North   \n",
       "\n",
       "                       dropoff_zone pickup_borough dropoff_borough  \n",
       "3672                 Yorkville East      Manhattan       Manhattan  \n",
       "1805                   East Chelsea      Manhattan       Manhattan  \n",
       "6348            Crown Heights North       Brooklyn        Brooklyn  \n",
       "3699  Sutton Place/Turtle Bay North      Manhattan       Manhattan  \n",
       "3308      Times Sq/Theatre District      Manhattan       Manhattan  "
      ]
     },
     "execution_count": 5,
     "metadata": {},
     "output_type": "execute_result"
    }
   ],
   "source": [
    "#sample data\n",
    "df.sample(5)"
   ]
  },
  {
   "cell_type": "code",
   "execution_count": 6,
   "id": "4991063c",
   "metadata": {},
   "outputs": [
    {
     "data": {
      "text/plain": [
       "(6433, 14)"
      ]
     },
     "execution_count": 6,
     "metadata": {},
     "output_type": "execute_result"
    }
   ],
   "source": [
    "# # of columns and # of instances\n",
    "df.shape"
   ]
  },
  {
   "cell_type": "code",
   "execution_count": 7,
   "id": "bb7a06ff",
   "metadata": {},
   "outputs": [
    {
     "name": "stdout",
     "output_type": "stream",
     "text": [
      "<class 'pandas.core.frame.DataFrame'>\n",
      "RangeIndex: 6433 entries, 0 to 6432\n",
      "Data columns (total 14 columns):\n",
      " #   Column           Non-Null Count  Dtype         \n",
      "---  ------           --------------  -----         \n",
      " 0   pickup           6433 non-null   datetime64[ns]\n",
      " 1   dropoff          6433 non-null   datetime64[ns]\n",
      " 2   passengers       6433 non-null   int64         \n",
      " 3   distance         6433 non-null   float64       \n",
      " 4   fare             6433 non-null   float64       \n",
      " 5   tip              6433 non-null   float64       \n",
      " 6   tolls            6433 non-null   float64       \n",
      " 7   total            6433 non-null   float64       \n",
      " 8   color            6433 non-null   object        \n",
      " 9   payment          6389 non-null   object        \n",
      " 10  pickup_zone      6407 non-null   object        \n",
      " 11  dropoff_zone     6388 non-null   object        \n",
      " 12  pickup_borough   6407 non-null   object        \n",
      " 13  dropoff_borough  6388 non-null   object        \n",
      "dtypes: datetime64[ns](2), float64(5), int64(1), object(6)\n",
      "memory usage: 703.7+ KB\n"
     ]
    }
   ],
   "source": [
    "#Basic info about the dataframe\n",
    "df.info()"
   ]
  },
  {
   "cell_type": "code",
   "execution_count": 8,
   "id": "c096b8a9",
   "metadata": {},
   "outputs": [
    {
     "data": {
      "text/html": [
       "<div>\n",
       "<style scoped>\n",
       "    .dataframe tbody tr th:only-of-type {\n",
       "        vertical-align: middle;\n",
       "    }\n",
       "\n",
       "    .dataframe tbody tr th {\n",
       "        vertical-align: top;\n",
       "    }\n",
       "\n",
       "    .dataframe thead th {\n",
       "        text-align: right;\n",
       "    }\n",
       "</style>\n",
       "<table border=\"1\" class=\"dataframe\">\n",
       "  <thead>\n",
       "    <tr style=\"text-align: right;\">\n",
       "      <th></th>\n",
       "      <th>passengers</th>\n",
       "      <th>distance</th>\n",
       "      <th>fare</th>\n",
       "      <th>tip</th>\n",
       "      <th>tolls</th>\n",
       "      <th>total</th>\n",
       "    </tr>\n",
       "  </thead>\n",
       "  <tbody>\n",
       "    <tr>\n",
       "      <th>count</th>\n",
       "      <td>6433.000000</td>\n",
       "      <td>6433.000000</td>\n",
       "      <td>6433.000000</td>\n",
       "      <td>6433.00000</td>\n",
       "      <td>6433.000000</td>\n",
       "      <td>6433.000000</td>\n",
       "    </tr>\n",
       "    <tr>\n",
       "      <th>mean</th>\n",
       "      <td>1.539251</td>\n",
       "      <td>3.024617</td>\n",
       "      <td>13.091073</td>\n",
       "      <td>1.97922</td>\n",
       "      <td>0.325273</td>\n",
       "      <td>18.517794</td>\n",
       "    </tr>\n",
       "    <tr>\n",
       "      <th>std</th>\n",
       "      <td>1.203768</td>\n",
       "      <td>3.827867</td>\n",
       "      <td>11.551804</td>\n",
       "      <td>2.44856</td>\n",
       "      <td>1.415267</td>\n",
       "      <td>13.815570</td>\n",
       "    </tr>\n",
       "    <tr>\n",
       "      <th>min</th>\n",
       "      <td>0.000000</td>\n",
       "      <td>0.000000</td>\n",
       "      <td>1.000000</td>\n",
       "      <td>0.00000</td>\n",
       "      <td>0.000000</td>\n",
       "      <td>1.300000</td>\n",
       "    </tr>\n",
       "    <tr>\n",
       "      <th>25%</th>\n",
       "      <td>1.000000</td>\n",
       "      <td>0.980000</td>\n",
       "      <td>6.500000</td>\n",
       "      <td>0.00000</td>\n",
       "      <td>0.000000</td>\n",
       "      <td>10.800000</td>\n",
       "    </tr>\n",
       "    <tr>\n",
       "      <th>50%</th>\n",
       "      <td>1.000000</td>\n",
       "      <td>1.640000</td>\n",
       "      <td>9.500000</td>\n",
       "      <td>1.70000</td>\n",
       "      <td>0.000000</td>\n",
       "      <td>14.160000</td>\n",
       "    </tr>\n",
       "    <tr>\n",
       "      <th>75%</th>\n",
       "      <td>2.000000</td>\n",
       "      <td>3.210000</td>\n",
       "      <td>15.000000</td>\n",
       "      <td>2.80000</td>\n",
       "      <td>0.000000</td>\n",
       "      <td>20.300000</td>\n",
       "    </tr>\n",
       "    <tr>\n",
       "      <th>max</th>\n",
       "      <td>6.000000</td>\n",
       "      <td>36.700000</td>\n",
       "      <td>150.000000</td>\n",
       "      <td>33.20000</td>\n",
       "      <td>24.020000</td>\n",
       "      <td>174.820000</td>\n",
       "    </tr>\n",
       "  </tbody>\n",
       "</table>\n",
       "</div>"
      ],
      "text/plain": [
       "        passengers     distance         fare         tip        tolls  \\\n",
       "count  6433.000000  6433.000000  6433.000000  6433.00000  6433.000000   \n",
       "mean      1.539251     3.024617    13.091073     1.97922     0.325273   \n",
       "std       1.203768     3.827867    11.551804     2.44856     1.415267   \n",
       "min       0.000000     0.000000     1.000000     0.00000     0.000000   \n",
       "25%       1.000000     0.980000     6.500000     0.00000     0.000000   \n",
       "50%       1.000000     1.640000     9.500000     1.70000     0.000000   \n",
       "75%       2.000000     3.210000    15.000000     2.80000     0.000000   \n",
       "max       6.000000    36.700000   150.000000    33.20000    24.020000   \n",
       "\n",
       "             total  \n",
       "count  6433.000000  \n",
       "mean     18.517794  \n",
       "std      13.815570  \n",
       "min       1.300000  \n",
       "25%      10.800000  \n",
       "50%      14.160000  \n",
       "75%      20.300000  \n",
       "max     174.820000  "
      ]
     },
     "execution_count": 8,
     "metadata": {},
     "output_type": "execute_result"
    }
   ],
   "source": [
    "#Stastical info about the dataframe\n",
    "df.describe()"
   ]
  },
  {
   "cell_type": "code",
   "execution_count": 9,
   "id": "df8b779f",
   "metadata": {},
   "outputs": [
    {
     "data": {
      "text/plain": [
       "pickup              0\n",
       "dropoff             0\n",
       "passengers          0\n",
       "distance            0\n",
       "fare                0\n",
       "tip                 0\n",
       "tolls               0\n",
       "total               0\n",
       "color               0\n",
       "payment            44\n",
       "pickup_zone        26\n",
       "dropoff_zone       45\n",
       "pickup_borough     26\n",
       "dropoff_borough    45\n",
       "dtype: int64"
      ]
     },
     "execution_count": 9,
     "metadata": {},
     "output_type": "execute_result"
    }
   ],
   "source": [
    "df.isna().sum()"
   ]
  },
  {
   "cell_type": "code",
   "execution_count": 10,
   "id": "ac01ea38",
   "metadata": {},
   "outputs": [
    {
     "data": {
      "text/plain": [
       "0"
      ]
     },
     "execution_count": 10,
     "metadata": {},
     "output_type": "execute_result"
    }
   ],
   "source": [
    "df.duplicated().sum()"
   ]
  },
  {
   "cell_type": "code",
   "execution_count": 11,
   "id": "4ee19be9",
   "metadata": {},
   "outputs": [
    {
     "data": {
      "text/plain": [
       "Index(['pickup', 'dropoff', 'passengers', 'distance', 'fare', 'tip', 'tolls',\n",
       "       'total', 'color', 'payment', 'pickup_zone', 'dropoff_zone',\n",
       "       'pickup_borough', 'dropoff_borough'],\n",
       "      dtype='object')"
      ]
     },
     "execution_count": 11,
     "metadata": {},
     "output_type": "execute_result"
    }
   ],
   "source": [
    "df.columns"
   ]
  },
  {
   "cell_type": "code",
   "execution_count": 12,
   "id": "b47b1967",
   "metadata": {},
   "outputs": [
    {
     "data": {
      "text/plain": [
       "passengers    2.359143\n",
       "distance      3.008206\n",
       "fare          3.217463\n",
       "tip           2.665152\n",
       "tolls         5.074936\n",
       "total         3.093333\n",
       "dtype: float64"
      ]
     },
     "execution_count": 12,
     "metadata": {},
     "output_type": "execute_result"
    }
   ],
   "source": [
    "df.skew(numeric_only=True)"
   ]
  },
  {
   "cell_type": "markdown",
   "id": "9cc6fae4",
   "metadata": {},
   "source": [
    "# Data preperation/preprocessing"
   ]
  },
  {
   "cell_type": "markdown",
   "id": "3e491891",
   "metadata": {},
   "source": [
    "# Handling null values"
   ]
  },
  {
   "cell_type": "code",
   "execution_count": 13,
   "id": "645886cb",
   "metadata": {},
   "outputs": [],
   "source": [
    "from sklearn.impute import KNNImputer"
   ]
  },
  {
   "cell_type": "code",
   "execution_count": 14,
   "id": "0839290a",
   "metadata": {},
   "outputs": [],
   "source": [
    "from sklearn.preprocessing import LabelEncoder,OrdinalEncoder\n",
    "from sklearn.compose import ColumnTransformer"
   ]
  },
  {
   "cell_type": "code",
   "execution_count": 15,
   "id": "c47f7911",
   "metadata": {},
   "outputs": [
    {
     "data": {
      "text/plain": [
       "Index(['pickup', 'dropoff', 'passengers', 'distance', 'fare', 'tip', 'tolls',\n",
       "       'total', 'color', 'payment', 'pickup_zone', 'dropoff_zone',\n",
       "       'pickup_borough', 'dropoff_borough'],\n",
       "      dtype='object')"
      ]
     },
     "execution_count": 15,
     "metadata": {},
     "output_type": "execute_result"
    }
   ],
   "source": [
    "df.columns"
   ]
  },
  {
   "cell_type": "code",
   "execution_count": 16,
   "id": "20ca8162",
   "metadata": {},
   "outputs": [],
   "source": [
    "ct = ColumnTransformer(transformers=[('Ordinal',OrdinalEncoder(),['color', 'payment', 'pickup_zone', 'dropoff_zone',\n",
    "       'pickup_borough', 'dropoff_borough'])],remainder='passthrough')"
   ]
  },
  {
   "cell_type": "code",
   "execution_count": 17,
   "id": "a0c98467",
   "metadata": {},
   "outputs": [],
   "source": [
    "arr = ct.fit_transform(df)"
   ]
  },
  {
   "cell_type": "code",
   "execution_count": 18,
   "id": "8582bf0a",
   "metadata": {},
   "outputs": [
    {
     "data": {
      "text/plain": [
       "array([[1.0, 1.0, 99.0, ..., 2.15, 0.0, 12.95],\n",
       "       [1.0, 0.0, 174.0, ..., 0.0, 0.0, 9.3],\n",
       "       [1.0, 1.0, 1.0, ..., 2.36, 0.0, 14.16],\n",
       "       ...,\n",
       "       [0.0, 0.0, 40.0, ..., 0.0, 0.0, 17.3],\n",
       "       [0.0, 1.0, 54.0, ..., 0.0, 0.0, 6.8],\n",
       "       [0.0, 1.0, 14.0, ..., 3.36, 0.0, 20.16]], dtype=object)"
      ]
     },
     "execution_count": 18,
     "metadata": {},
     "output_type": "execute_result"
    }
   ],
   "source": [
    "arr"
   ]
  },
  {
   "cell_type": "code",
   "execution_count": 19,
   "id": "2f878eac",
   "metadata": {},
   "outputs": [
    {
     "data": {
      "text/plain": [
       "array(['Ordinal__color', 'Ordinal__payment', 'Ordinal__pickup_zone',\n",
       "       'Ordinal__dropoff_zone', 'Ordinal__pickup_borough',\n",
       "       'Ordinal__dropoff_borough', 'remainder__pickup',\n",
       "       'remainder__dropoff', 'remainder__passengers',\n",
       "       'remainder__distance', 'remainder__fare', 'remainder__tip',\n",
       "       'remainder__tolls', 'remainder__total'], dtype=object)"
      ]
     },
     "execution_count": 19,
     "metadata": {},
     "output_type": "execute_result"
    }
   ],
   "source": [
    "ct.get_feature_names_out()"
   ]
  },
  {
   "cell_type": "code",
   "execution_count": 20,
   "id": "29958bc1",
   "metadata": {},
   "outputs": [],
   "source": [
    "arr_temp = arr[:,0:6]"
   ]
  },
  {
   "cell_type": "code",
   "execution_count": 21,
   "id": "5b0e8828",
   "metadata": {},
   "outputs": [
    {
     "data": {
      "text/plain": [
       "array(['pickup', 'dropoff', 'passengers', 'distance', 'fare', 'tip',\n",
       "       'tolls', 'total', 'color', 'payment', 'pickup_zone',\n",
       "       'dropoff_zone', 'pickup_borough', 'dropoff_borough'], dtype=object)"
      ]
     },
     "execution_count": 21,
     "metadata": {},
     "output_type": "execute_result"
    }
   ],
   "source": [
    "ct.feature_names_in_"
   ]
  },
  {
   "cell_type": "code",
   "execution_count": 22,
   "id": "aa482281",
   "metadata": {},
   "outputs": [
    {
     "data": {
      "text/plain": [
       "array([1.0, 1.0, 99.0, 176.0, 2.0, 2.0, Timestamp('2019-03-23 20:21:09'),\n",
       "       Timestamp('2019-03-23 20:27:24'), 1, 1.6, 7.0, 2.15, 0.0, 12.95],\n",
       "      dtype=object)"
      ]
     },
     "execution_count": 22,
     "metadata": {},
     "output_type": "execute_result"
    }
   ],
   "source": [
    "arr[0]"
   ]
  },
  {
   "cell_type": "code",
   "execution_count": 23,
   "id": "4751f2c9",
   "metadata": {},
   "outputs": [],
   "source": [
    "arr_col = ct.get_feature_names_out()"
   ]
  },
  {
   "cell_type": "code",
   "execution_count": 24,
   "id": "44bd2ee5",
   "metadata": {},
   "outputs": [],
   "source": [
    "df = pd.DataFrame(arr,columns=[col.split('__')[-1] for col in arr_col])"
   ]
  },
  {
   "cell_type": "code",
   "execution_count": 25,
   "id": "15e21599",
   "metadata": {},
   "outputs": [
    {
     "data": {
      "text/plain": [
       "color               0\n",
       "payment            44\n",
       "pickup_zone        26\n",
       "dropoff_zone       45\n",
       "pickup_borough     26\n",
       "dropoff_borough    45\n",
       "pickup              0\n",
       "dropoff             0\n",
       "passengers          0\n",
       "distance            0\n",
       "fare                0\n",
       "tip                 0\n",
       "tolls               0\n",
       "total               0\n",
       "dtype: int64"
      ]
     },
     "execution_count": 25,
     "metadata": {},
     "output_type": "execute_result"
    }
   ],
   "source": [
    "df.isna().sum()"
   ]
  },
  {
   "cell_type": "code",
   "execution_count": 26,
   "id": "42ef439e",
   "metadata": {},
   "outputs": [],
   "source": [
    "imputer = KNNImputer()"
   ]
  },
  {
   "cell_type": "code",
   "execution_count": 27,
   "id": "bfa87dcc",
   "metadata": {},
   "outputs": [],
   "source": [
    "arr = imputer.fit_transform(df.drop(['pickup', 'dropoff'],axis = 1))"
   ]
  },
  {
   "cell_type": "code",
   "execution_count": 28,
   "id": "50be6a6b",
   "metadata": {},
   "outputs": [],
   "source": [
    "df_temp = pd.DataFrame(arr,columns=df.drop(['pickup', 'dropoff'],axis = 1).columns)"
   ]
  },
  {
   "cell_type": "code",
   "execution_count": 29,
   "id": "589d7fb7",
   "metadata": {},
   "outputs": [],
   "source": [
    "df_temp['pickup'] = df['pickup']\n",
    "df_temp['dropoff'] = df['dropoff']"
   ]
  },
  {
   "cell_type": "code",
   "execution_count": 30,
   "id": "14030577",
   "metadata": {},
   "outputs": [],
   "source": [
    "df = df_temp[['pickup', 'dropoff', 'passengers', 'distance', 'fare', 'tip', 'tolls',\n",
    "       'total', 'color', 'payment', 'pickup_zone', 'dropoff_zone',\n",
    "       'pickup_borough', 'dropoff_borough']].copy()"
   ]
  },
  {
   "cell_type": "code",
   "execution_count": 31,
   "id": "2ac71699",
   "metadata": {},
   "outputs": [
    {
     "data": {
      "text/plain": [
       "pickup             0\n",
       "dropoff            0\n",
       "passengers         0\n",
       "distance           0\n",
       "fare               0\n",
       "tip                0\n",
       "tolls              0\n",
       "total              0\n",
       "color              0\n",
       "payment            0\n",
       "pickup_zone        0\n",
       "dropoff_zone       0\n",
       "pickup_borough     0\n",
       "dropoff_borough    0\n",
       "dtype: int64"
      ]
     },
     "execution_count": 31,
     "metadata": {},
     "output_type": "execute_result"
    }
   ],
   "source": [
    "df.isna().sum()"
   ]
  },
  {
   "cell_type": "code",
   "execution_count": 32,
   "id": "db003ddb",
   "metadata": {},
   "outputs": [
    {
     "data": {
      "text/html": [
       "<div>\n",
       "<style scoped>\n",
       "    .dataframe tbody tr th:only-of-type {\n",
       "        vertical-align: middle;\n",
       "    }\n",
       "\n",
       "    .dataframe tbody tr th {\n",
       "        vertical-align: top;\n",
       "    }\n",
       "\n",
       "    .dataframe thead th {\n",
       "        text-align: right;\n",
       "    }\n",
       "</style>\n",
       "<table border=\"1\" class=\"dataframe\">\n",
       "  <thead>\n",
       "    <tr style=\"text-align: right;\">\n",
       "      <th></th>\n",
       "      <th>pickup</th>\n",
       "      <th>dropoff</th>\n",
       "      <th>passengers</th>\n",
       "      <th>distance</th>\n",
       "      <th>fare</th>\n",
       "      <th>tip</th>\n",
       "      <th>tolls</th>\n",
       "      <th>total</th>\n",
       "      <th>color</th>\n",
       "      <th>payment</th>\n",
       "      <th>pickup_zone</th>\n",
       "      <th>dropoff_zone</th>\n",
       "      <th>pickup_borough</th>\n",
       "      <th>dropoff_borough</th>\n",
       "    </tr>\n",
       "  </thead>\n",
       "  <tbody>\n",
       "    <tr>\n",
       "      <th>0</th>\n",
       "      <td>2019-03-23 20:21:09</td>\n",
       "      <td>2019-03-23 20:27:24</td>\n",
       "      <td>1.0</td>\n",
       "      <td>1.60</td>\n",
       "      <td>7.0</td>\n",
       "      <td>2.15</td>\n",
       "      <td>0.0</td>\n",
       "      <td>12.95</td>\n",
       "      <td>1.0</td>\n",
       "      <td>1.0</td>\n",
       "      <td>99.0</td>\n",
       "      <td>176.0</td>\n",
       "      <td>2.0</td>\n",
       "      <td>2.0</td>\n",
       "    </tr>\n",
       "    <tr>\n",
       "      <th>1</th>\n",
       "      <td>2019-03-04 16:11:55</td>\n",
       "      <td>2019-03-04 16:19:00</td>\n",
       "      <td>1.0</td>\n",
       "      <td>0.79</td>\n",
       "      <td>5.0</td>\n",
       "      <td>0.00</td>\n",
       "      <td>0.0</td>\n",
       "      <td>9.30</td>\n",
       "      <td>1.0</td>\n",
       "      <td>0.0</td>\n",
       "      <td>174.0</td>\n",
       "      <td>182.0</td>\n",
       "      <td>2.0</td>\n",
       "      <td>2.0</td>\n",
       "    </tr>\n",
       "    <tr>\n",
       "      <th>2</th>\n",
       "      <td>2019-03-27 17:53:01</td>\n",
       "      <td>2019-03-27 18:00:25</td>\n",
       "      <td>1.0</td>\n",
       "      <td>1.37</td>\n",
       "      <td>7.5</td>\n",
       "      <td>2.36</td>\n",
       "      <td>0.0</td>\n",
       "      <td>14.16</td>\n",
       "      <td>1.0</td>\n",
       "      <td>1.0</td>\n",
       "      <td>1.0</td>\n",
       "      <td>190.0</td>\n",
       "      <td>2.0</td>\n",
       "      <td>2.0</td>\n",
       "    </tr>\n",
       "    <tr>\n",
       "      <th>3</th>\n",
       "      <td>2019-03-10 01:23:59</td>\n",
       "      <td>2019-03-10 01:49:51</td>\n",
       "      <td>1.0</td>\n",
       "      <td>7.70</td>\n",
       "      <td>27.0</td>\n",
       "      <td>6.15</td>\n",
       "      <td>0.0</td>\n",
       "      <td>36.95</td>\n",
       "      <td>1.0</td>\n",
       "      <td>1.0</td>\n",
       "      <td>86.0</td>\n",
       "      <td>202.0</td>\n",
       "      <td>2.0</td>\n",
       "      <td>2.0</td>\n",
       "    </tr>\n",
       "    <tr>\n",
       "      <th>4</th>\n",
       "      <td>2019-03-30 13:27:42</td>\n",
       "      <td>2019-03-30 13:37:14</td>\n",
       "      <td>3.0</td>\n",
       "      <td>2.16</td>\n",
       "      <td>9.0</td>\n",
       "      <td>1.10</td>\n",
       "      <td>0.0</td>\n",
       "      <td>13.40</td>\n",
       "      <td>1.0</td>\n",
       "      <td>1.0</td>\n",
       "      <td>116.0</td>\n",
       "      <td>202.0</td>\n",
       "      <td>2.0</td>\n",
       "      <td>2.0</td>\n",
       "    </tr>\n",
       "    <tr>\n",
       "      <th>...</th>\n",
       "      <td>...</td>\n",
       "      <td>...</td>\n",
       "      <td>...</td>\n",
       "      <td>...</td>\n",
       "      <td>...</td>\n",
       "      <td>...</td>\n",
       "      <td>...</td>\n",
       "      <td>...</td>\n",
       "      <td>...</td>\n",
       "      <td>...</td>\n",
       "      <td>...</td>\n",
       "      <td>...</td>\n",
       "      <td>...</td>\n",
       "      <td>...</td>\n",
       "    </tr>\n",
       "    <tr>\n",
       "      <th>6428</th>\n",
       "      <td>2019-03-31 09:51:53</td>\n",
       "      <td>2019-03-31 09:55:27</td>\n",
       "      <td>1.0</td>\n",
       "      <td>0.75</td>\n",
       "      <td>4.5</td>\n",
       "      <td>1.06</td>\n",
       "      <td>0.0</td>\n",
       "      <td>6.36</td>\n",
       "      <td>0.0</td>\n",
       "      <td>1.0</td>\n",
       "      <td>52.0</td>\n",
       "      <td>30.0</td>\n",
       "      <td>2.0</td>\n",
       "      <td>2.0</td>\n",
       "    </tr>\n",
       "    <tr>\n",
       "      <th>6429</th>\n",
       "      <td>2019-03-31 17:38:00</td>\n",
       "      <td>2019-03-31 18:34:23</td>\n",
       "      <td>1.0</td>\n",
       "      <td>18.74</td>\n",
       "      <td>58.0</td>\n",
       "      <td>0.00</td>\n",
       "      <td>0.0</td>\n",
       "      <td>58.80</td>\n",
       "      <td>0.0</td>\n",
       "      <td>1.0</td>\n",
       "      <td>91.0</td>\n",
       "      <td>51.0</td>\n",
       "      <td>3.0</td>\n",
       "      <td>0.0</td>\n",
       "    </tr>\n",
       "    <tr>\n",
       "      <th>6430</th>\n",
       "      <td>2019-03-23 22:55:18</td>\n",
       "      <td>2019-03-23 23:14:25</td>\n",
       "      <td>1.0</td>\n",
       "      <td>4.14</td>\n",
       "      <td>16.0</td>\n",
       "      <td>0.00</td>\n",
       "      <td>0.0</td>\n",
       "      <td>17.30</td>\n",
       "      <td>0.0</td>\n",
       "      <td>0.0</td>\n",
       "      <td>40.0</td>\n",
       "      <td>24.0</td>\n",
       "      <td>1.0</td>\n",
       "      <td>1.0</td>\n",
       "    </tr>\n",
       "    <tr>\n",
       "      <th>6431</th>\n",
       "      <td>2019-03-04 10:09:25</td>\n",
       "      <td>2019-03-04 10:14:29</td>\n",
       "      <td>1.0</td>\n",
       "      <td>1.12</td>\n",
       "      <td>6.0</td>\n",
       "      <td>0.00</td>\n",
       "      <td>0.0</td>\n",
       "      <td>6.80</td>\n",
       "      <td>0.0</td>\n",
       "      <td>1.0</td>\n",
       "      <td>54.0</td>\n",
       "      <td>54.0</td>\n",
       "      <td>1.0</td>\n",
       "      <td>1.0</td>\n",
       "    </tr>\n",
       "    <tr>\n",
       "      <th>6432</th>\n",
       "      <td>2019-03-13 19:31:22</td>\n",
       "      <td>2019-03-13 19:48:02</td>\n",
       "      <td>1.0</td>\n",
       "      <td>3.85</td>\n",
       "      <td>15.0</td>\n",
       "      <td>3.36</td>\n",
       "      <td>0.0</td>\n",
       "      <td>20.16</td>\n",
       "      <td>0.0</td>\n",
       "      <td>1.0</td>\n",
       "      <td>14.0</td>\n",
       "      <td>196.0</td>\n",
       "      <td>1.0</td>\n",
       "      <td>1.0</td>\n",
       "    </tr>\n",
       "  </tbody>\n",
       "</table>\n",
       "<p>6433 rows × 14 columns</p>\n",
       "</div>"
      ],
      "text/plain": [
       "                  pickup             dropoff  passengers  distance  fare  \\\n",
       "0    2019-03-23 20:21:09 2019-03-23 20:27:24         1.0      1.60   7.0   \n",
       "1    2019-03-04 16:11:55 2019-03-04 16:19:00         1.0      0.79   5.0   \n",
       "2    2019-03-27 17:53:01 2019-03-27 18:00:25         1.0      1.37   7.5   \n",
       "3    2019-03-10 01:23:59 2019-03-10 01:49:51         1.0      7.70  27.0   \n",
       "4    2019-03-30 13:27:42 2019-03-30 13:37:14         3.0      2.16   9.0   \n",
       "...                  ...                 ...         ...       ...   ...   \n",
       "6428 2019-03-31 09:51:53 2019-03-31 09:55:27         1.0      0.75   4.5   \n",
       "6429 2019-03-31 17:38:00 2019-03-31 18:34:23         1.0     18.74  58.0   \n",
       "6430 2019-03-23 22:55:18 2019-03-23 23:14:25         1.0      4.14  16.0   \n",
       "6431 2019-03-04 10:09:25 2019-03-04 10:14:29         1.0      1.12   6.0   \n",
       "6432 2019-03-13 19:31:22 2019-03-13 19:48:02         1.0      3.85  15.0   \n",
       "\n",
       "       tip  tolls  total  color  payment  pickup_zone  dropoff_zone  \\\n",
       "0     2.15    0.0  12.95    1.0      1.0         99.0         176.0   \n",
       "1     0.00    0.0   9.30    1.0      0.0        174.0         182.0   \n",
       "2     2.36    0.0  14.16    1.0      1.0          1.0         190.0   \n",
       "3     6.15    0.0  36.95    1.0      1.0         86.0         202.0   \n",
       "4     1.10    0.0  13.40    1.0      1.0        116.0         202.0   \n",
       "...    ...    ...    ...    ...      ...          ...           ...   \n",
       "6428  1.06    0.0   6.36    0.0      1.0         52.0          30.0   \n",
       "6429  0.00    0.0  58.80    0.0      1.0         91.0          51.0   \n",
       "6430  0.00    0.0  17.30    0.0      0.0         40.0          24.0   \n",
       "6431  0.00    0.0   6.80    0.0      1.0         54.0          54.0   \n",
       "6432  3.36    0.0  20.16    0.0      1.0         14.0         196.0   \n",
       "\n",
       "      pickup_borough  dropoff_borough  \n",
       "0                2.0              2.0  \n",
       "1                2.0              2.0  \n",
       "2                2.0              2.0  \n",
       "3                2.0              2.0  \n",
       "4                2.0              2.0  \n",
       "...              ...              ...  \n",
       "6428             2.0              2.0  \n",
       "6429             3.0              0.0  \n",
       "6430             1.0              1.0  \n",
       "6431             1.0              1.0  \n",
       "6432             1.0              1.0  \n",
       "\n",
       "[6433 rows x 14 columns]"
      ]
     },
     "execution_count": 32,
     "metadata": {},
     "output_type": "execute_result"
    }
   ],
   "source": [
    "df"
   ]
  },
  {
   "cell_type": "code",
   "execution_count": 33,
   "id": "3bbf5f5f",
   "metadata": {},
   "outputs": [],
   "source": [
    "lc = [ x.split('__')[-1] for x in ct.get_feature_names_out() if 'Ordinal' in x]"
   ]
  },
  {
   "cell_type": "code",
   "execution_count": 34,
   "id": "5fbf83d9",
   "metadata": {},
   "outputs": [],
   "source": [
    "df_temp = df[lc]"
   ]
  },
  {
   "cell_type": "code",
   "execution_count": 35,
   "id": "b4c72a01",
   "metadata": {},
   "outputs": [],
   "source": [
    "arr_temp = ct.named_transformers_['Ordinal'].inverse_transform(df_temp)"
   ]
  },
  {
   "cell_type": "code",
   "execution_count": 36,
   "id": "9c6044f1",
   "metadata": {},
   "outputs": [],
   "source": [
    "df[lc] = arr_temp"
   ]
  },
  {
   "cell_type": "code",
   "execution_count": 37,
   "id": "faeaaa7d",
   "metadata": {},
   "outputs": [
    {
     "data": {
      "text/plain": [
       "pickup             0\n",
       "dropoff            0\n",
       "passengers         0\n",
       "distance           0\n",
       "fare               0\n",
       "tip                0\n",
       "tolls              0\n",
       "total              0\n",
       "color              0\n",
       "payment            0\n",
       "pickup_zone        0\n",
       "dropoff_zone       0\n",
       "pickup_borough     0\n",
       "dropoff_borough    0\n",
       "dtype: int64"
      ]
     },
     "execution_count": 37,
     "metadata": {},
     "output_type": "execute_result"
    }
   ],
   "source": [
    "df.isna().sum()"
   ]
  },
  {
   "cell_type": "code",
   "execution_count": 38,
   "id": "4f29f9c0",
   "metadata": {},
   "outputs": [],
   "source": [
    "#df.to_csv('_data_setup/processed_data.csv')"
   ]
  },
  {
   "cell_type": "code",
   "execution_count": 39,
   "id": "f1cfea01",
   "metadata": {},
   "outputs": [
    {
     "data": {
      "text/plain": [
       "Index(['pickup', 'dropoff', 'passengers', 'distance', 'fare', 'tip', 'tolls',\n",
       "       'total', 'color', 'payment', 'pickup_zone', 'dropoff_zone',\n",
       "       'pickup_borough', 'dropoff_borough'],\n",
       "      dtype='object')"
      ]
     },
     "execution_count": 39,
     "metadata": {},
     "output_type": "execute_result"
    }
   ],
   "source": [
    "df.columns"
   ]
  },
  {
   "cell_type": "markdown",
   "id": "633e0991",
   "metadata": {},
   "source": [
    "# Possible questions to answer\n",
    "\n",
    "From the given data frame containing details of taxi rides, there are several questions we can answer to gain insights and make informed decisions. Here are some possible questions you can explore:\n",
    "\n",
    "1. **What is the average number of passengers per ride?**\n",
    "   This will help you understand the typical occupancy of the taxis.\n",
    "\n",
    "2. **What is the distribution of fare amounts?**\n",
    "   Analyzing fare distribution can give you an idea of the pricing structure.\n",
    "\n",
    "3. **Which payment method is most commonly used?**\n",
    "   This will help you understand customers' preferred payment options.\n",
    "\n",
    "4. **What is the average tip amount?**\n",
    "   This will help you see how much customers are tipping on average.\n",
    "\n",
    "5. **Which pickup zone has the highest number of rides?**\n",
    "   This will give you insights into popular pickup locations.\n",
    "\n",
    "6. **Which dropoff zone is the most common destination?**\n",
    "   This will help you identify popular dropoff locations.\n",
    "\n",
    "7. **What are the most common pickup and dropoff boroughs?**\n",
    "   This will provide information about the most frequently visited areas.\n",
    "\n",
    "8. **Is there a correlation between distance and fare amount?**\n",
    "   Understanding the relationship between distance traveled and fare can be important for pricing strategies.\n",
    "\n",
    "9. **What is the average toll amount per ride?**\n",
    "   This can help you estimate additional costs incurred due to tolls.\n",
    "\n",
    "10. **What are the peak hours for taxi rides?**\n",
    "    Analyzing the demand pattern over different hours can help you optimize taxi availability.\n",
    "\n",
    "11. **How does the total cost vary based on the color of the taxi?**\n",
    "    This can help you identify if certain taxi colors have different pricing structures.\n",
    "\n",
    "12. **What are the top tips given for taxi rides?**\n",
    "    This can provide insights into customer behavior and satisfaction.\n",
    "\n",
    "13. **How does the average fare differ across different pickup and dropoff zones?**\n",
    "    Understanding fare variations across zones can help you target specific areas.\n",
    "\n",
    "14. **What is the average distance traveled for rides paid with different payment methods?**\n",
    "    This can help you understand if there are any differences in trip length based on payment type.\n",
    "\n",
    "15. **Is there any seasonality in taxi ride demand?**\n",
    "    Analyzing trends over months or seasons can help you plan for peak times.\n",
    "\n",
    "These questions are just a starting point, and you can come up with many more based on the specific goals and interests you have in mind while working with the data. By exploring the data and answering these questions, you can gain valuable insights to make data-driven decisions and improve taxi services or operations."
   ]
  },
  {
   "cell_type": "code",
   "execution_count": 43,
   "id": "2c910c50",
   "metadata": {},
   "outputs": [
    {
     "name": "stdout",
     "output_type": "stream",
     "text": [
      "The average number of passengers per ride : 1.54\n"
     ]
    }
   ],
   "source": [
    "#Question one : What is the average number of passengers per ride?\n",
    "print(f\"The average number of passengers per ride : {df['passengers'].sum()/df.shape[0]:0.2f}\")"
   ]
  },
  {
   "cell_type": "code",
   "execution_count": 44,
   "id": "01b8ef90",
   "metadata": {},
   "outputs": [],
   "source": [
    "#Extension to question one\n",
    "#Question 1.1 : What is the share of rides per day of the week?"
   ]
  },
  {
   "cell_type": "code",
   "execution_count": 46,
   "id": "44c640fd",
   "metadata": {},
   "outputs": [],
   "source": [
    "df['pickup'] = pd.to_datetime(df['pickup'])\n",
    "df['dropoff'] = pd.to_datetime(df['dropoff'])"
   ]
  },
  {
   "cell_type": "code",
   "execution_count": 58,
   "id": "1cd23070",
   "metadata": {},
   "outputs": [],
   "source": [
    "df.sort_values(['pickup'],inplace=True)"
   ]
  },
  {
   "cell_type": "code",
   "execution_count": 68,
   "id": "448ed1f5",
   "metadata": {},
   "outputs": [],
   "source": [
    "df.reset_index(inplace=True,drop=True)"
   ]
  },
  {
   "cell_type": "code",
   "execution_count": 69,
   "id": "6313ffef",
   "metadata": {},
   "outputs": [],
   "source": [
    "#On obsevation, there was a single instance happened in Feburary month. So we will be deleting it from the dataframe"
   ]
  },
  {
   "cell_type": "code",
   "execution_count": 71,
   "id": "c72e0f45",
   "metadata": {},
   "outputs": [],
   "source": [
    "df.drop(['level_0'],axis = 1,inplace = True)"
   ]
  },
  {
   "cell_type": "code",
   "execution_count": 73,
   "id": "f8da92fc",
   "metadata": {},
   "outputs": [],
   "source": [
    "df = df.iloc[1:].copy()"
   ]
  },
  {
   "cell_type": "code",
   "execution_count": 76,
   "id": "fbf07b6e",
   "metadata": {},
   "outputs": [],
   "source": [
    "df['day_name'] = df['pickup'].dt.day_name()"
   ]
  },
  {
   "cell_type": "code",
   "execution_count": 81,
   "id": "15b488c9",
   "metadata": {},
   "outputs": [
    {
     "data": {
      "text/plain": [
       "day_name\n",
       "Friday       1115\n",
       "Monday        708\n",
       "Saturday     1046\n",
       "Sunday        868\n",
       "Thursday      904\n",
       "Tuesday       825\n",
       "Wednesday     966\n",
       "Name: pickup, dtype: int64"
      ]
     },
     "execution_count": 81,
     "metadata": {},
     "output_type": "execute_result"
    }
   ],
   "source": [
    "df.groupby(['day_name']).count()['pickup']"
   ]
  },
  {
   "cell_type": "code",
   "execution_count": 83,
   "id": "5e62aa74",
   "metadata": {},
   "outputs": [
    {
     "data": {
      "text/plain": [
       "1115"
      ]
     },
     "execution_count": 83,
     "metadata": {},
     "output_type": "execute_result"
    }
   ],
   "source": [
    "df.groupby(['day_name']).count()['pickup'].loc['Friday']"
   ]
  },
  {
   "cell_type": "code",
   "execution_count": 91,
   "id": "d0fd1c2c",
   "metadata": {},
   "outputs": [],
   "source": [
    "def percent_rides_day(day : str):\n",
    "    total_rides = df.groupby(['day_name']).count()['pickup'].sum()\n",
    "    rides_on_given_day = df.groupby(['day_name']).count()['pickup'].loc[day]\n",
    "    return rides_on_given_day/total_rides"
   ]
  },
  {
   "cell_type": "code",
   "execution_count": 92,
   "id": "141790b9",
   "metadata": {},
   "outputs": [],
   "source": [
    "day_lst = df['day_name'].value_counts().keys().to_list()"
   ]
  },
  {
   "cell_type": "code",
   "execution_count": 94,
   "id": "b39c751b",
   "metadata": {},
   "outputs": [
    {
     "name": "stdout",
     "output_type": "stream",
     "text": [
      "The percentage of rides on Friday in March is  17.34\n",
      "The percentage of rides on Saturday in March is  16.26\n",
      "The percentage of rides on Wednesday in March is  15.02\n",
      "The percentage of rides on Thursday in March is  14.05\n",
      "The percentage of rides on Sunday in March is  13.50\n",
      "The percentage of rides on Tuesday in March is  12.83\n",
      "The percentage of rides on Monday in March is  11.01\n"
     ]
    }
   ],
   "source": [
    "for day in day_lst:\n",
    "    print(f\"The percentage of rides on {day} in March is {percent_rides_day(day)*100 : 0.2f}\")"
   ]
  },
  {
   "cell_type": "code",
   "execution_count": 95,
   "id": "cf38af34",
   "metadata": {},
   "outputs": [],
   "source": [
    "#Question two : Distribution of fare"
   ]
  },
  {
   "cell_type": "code",
   "execution_count": 110,
   "id": "3a4f208a",
   "metadata": {},
   "outputs": [
    {
     "data": {
      "image/png": "[encoded data removed]",
      "text/plain": [
       "<Figure size 500x500 with 1 Axes>"
      ]
     },
     "metadata": {},
     "output_type": "display_data"
    }
   ],
   "source": [
    "sns.displot(data = df,x = 'fare')\n",
    "plt.title('Distribution of Fare')\n",
    "plt.show()"
   ]
  },
  {
   "cell_type": "code",
   "execution_count": 112,
   "id": "ce8b3f87",
   "metadata": {},
   "outputs": [
    {
     "data": {
      "image/png": "[encoded data removed]",
      "text/plain": [
       "<Figure size 640x480 with 1 Axes>"
      ]
     },
     "metadata": {},
     "output_type": "display_data"
    }
   ],
   "source": [
    "#Extension 2.1 : Distribution of fare as per day\n",
    "sns.kdeplot(data = df,x = 'fare',hue = 'day_name')\n",
    "plt.title('Distribution of Fare')\n",
    "plt.show()"
   ]
  },
  {
   "cell_type": "code",
   "execution_count": 98,
   "id": "718efb30",
   "metadata": {},
   "outputs": [
    {
     "data": {
      "text/plain": [
       "credit card    4582\n",
       "cash           1850\n",
       "Name: payment, dtype: int64"
      ]
     },
     "execution_count": 98,
     "metadata": {},
     "output_type": "execute_result"
    }
   ],
   "source": [
    "#Question there : Most common payment meathod\n",
    "df['payment'].value_counts()"
   ]
  },
  {
   "cell_type": "code",
   "execution_count": 100,
   "id": "a90dbe73",
   "metadata": {},
   "outputs": [],
   "source": [
    "pastel = sns.color_palette('pastel')"
   ]
  },
  {
   "cell_type": "code",
   "execution_count": 113,
   "id": "136cb844",
   "metadata": {},
   "outputs": [
    {
     "data": {
      "image/png": "[encoded data removed]",
      "text/plain": [
       "<Figure size 640x480 with 1 Axes>"
      ]
     },
     "metadata": {},
     "output_type": "display_data"
    }
   ],
   "source": [
    "sns.countplot(data = df,x = 'payment',palette=pastel)\n",
    "plt.title('Count plot of payment meathod')\n",
    "plt.show()"
   ]
  },
  {
   "cell_type": "code",
   "execution_count": 114,
   "id": "72d75be7",
   "metadata": {},
   "outputs": [
    {
     "data": {
      "image/png": "[encoded data removed]",
      "text/plain": [
       "<Figure size 640x480 with 1 Axes>"
      ]
     },
     "metadata": {},
     "output_type": "display_data"
    }
   ],
   "source": [
    "plt.pie(df['payment'].value_counts(),labels=df['payment'].value_counts().keys(),autopct='%0.2f%%',colors=pastel[2:])\n",
    "plt.title('Pie chart of payment meathod')\n",
    "plt.show()"
   ]
  },
  {
   "cell_type": "code",
   "execution_count": 115,
   "id": "0c08e562",
   "metadata": {},
   "outputs": [],
   "source": [
    "#Question four : What is the average tip amount?"
   ]
  },
  {
   "cell_type": "code",
   "execution_count": 118,
   "id": "d6668003",
   "metadata": {},
   "outputs": [
    {
     "name": "stdout",
     "output_type": "stream",
     "text": [
      "The average tip amount is : 1.98\n"
     ]
    }
   ],
   "source": [
    "print(f\"The average tip amount is : {df['tip'].mean():0.2f}\")"
   ]
  },
  {
   "cell_type": "code",
   "execution_count": 123,
   "id": "4e9e411c",
   "metadata": {},
   "outputs": [
    {
     "data": {
      "text/plain": [
       "day_name\n",
       "Saturday     1.815143\n",
       "Sunday       1.908710\n",
       "Friday       1.980108\n",
       "Tuesday      2.001370\n",
       "Monday       2.027316\n",
       "Thursday     2.064458\n",
       "Wednesday    2.087329\n",
       "Name: tip, dtype: float64"
      ]
     },
     "execution_count": 123,
     "metadata": {},
     "output_type": "execute_result"
    }
   ],
   "source": [
    "df.groupby(['day_name']).mean(numeric_only=True).sort_values(['tip']).tip"
   ]
  },
  {
   "cell_type": "code",
   "execution_count": 127,
   "id": "63f0745f",
   "metadata": {},
   "outputs": [
    {
     "data": {
      "image/png": "[encoded data removed]",
      "text/plain": [
       "<Figure size 640x480 with 1 Axes>"
      ]
     },
     "metadata": {},
     "output_type": "display_data"
    }
   ],
   "source": [
    "sns.barplot(x = df.groupby(['day_name']).mean(numeric_only=True).sort_values(['tip']).tip.keys(),\n",
    "           y = df.groupby(['day_name']).mean(numeric_only=True).sort_values(['tip']).tip.values,palette = pastel)\n",
    "plt.title('Average tip')\n",
    "plt.show()"
   ]
  },
  {
   "cell_type": "code",
   "execution_count": 128,
   "id": "db3f2beb",
   "metadata": {},
   "outputs": [],
   "source": [
    "#Question 5 : Which pickup zone has the highest number of rides?"
   ]
  },
  {
   "cell_type": "code",
   "execution_count": 132,
   "id": "eba99525",
   "metadata": {},
   "outputs": [
    {
     "data": {
      "text/plain": [
       "Midtown Center                  230\n",
       "Upper East Side South           211\n",
       "Penn Station/Madison Sq West    210\n",
       "Clinton East                    208\n",
       "Midtown East                    198\n",
       "Name: pickup_zone, dtype: int64"
      ]
     },
     "execution_count": 132,
     "metadata": {},
     "output_type": "execute_result"
    }
   ],
   "source": [
    "#Top 5 pickup zones\n",
    "df['pickup_zone'].value_counts().head()"
   ]
  },
  {
   "cell_type": "code",
   "execution_count": 133,
   "id": "f4bca825",
   "metadata": {},
   "outputs": [],
   "source": [
    "#Question 6 : Which dropoff zone is the most common destination?"
   ]
  },
  {
   "cell_type": "code",
   "execution_count": 135,
   "id": "83bbe9db",
   "metadata": {},
   "outputs": [
    {
     "data": {
      "text/plain": [
       "Upper East Side North    245\n",
       "Murray Hill              220\n",
       "Midtown Center           215\n",
       "Upper East Side South    177\n",
       "Midtown East             176\n",
       "Name: dropoff_zone, dtype: int64"
      ]
     },
     "execution_count": 135,
     "metadata": {},
     "output_type": "execute_result"
    }
   ],
   "source": [
    "#Top 5 drop off zones\n",
    "df['dropoff_zone'].value_counts().head()"
   ]
  },
  {
   "cell_type": "code",
   "execution_count": 136,
   "id": "cf7d7c9a",
   "metadata": {},
   "outputs": [
    {
     "data": {
      "text/plain": [
       "Manhattan    5288\n",
       "Queens        657\n",
       "Brooklyn      388\n",
       "Bronx          99\n",
       "Name: pickup_borough, dtype: int64"
      ]
     },
     "execution_count": 136,
     "metadata": {},
     "output_type": "execute_result"
    }
   ],
   "source": [
    "#Question 7 : What are the most common pickup and dropoff boroughs?\n",
    "df['pickup_borough'].value_counts().head()"
   ]
  },
  {
   "cell_type": "code",
   "execution_count": 137,
   "id": "cc58bad8",
   "metadata": {},
   "outputs": [
    {
     "data": {
      "text/plain": [
       "Manhattan        5234\n",
       "Queens            543\n",
       "Brooklyn          511\n",
       "Bronx             142\n",
       "Staten Island       2\n",
       "Name: dropoff_borough, dtype: int64"
      ]
     },
     "execution_count": 137,
     "metadata": {},
     "output_type": "execute_result"
    }
   ],
   "source": [
    "df['dropoff_borough'].value_counts().head()"
   ]
  },
  {
   "cell_type": "code",
   "execution_count": 139,
   "id": "cb65dcde",
   "metadata": {},
   "outputs": [],
   "source": [
    "#Question 8 : Is there a correlation between distance and fare amount?"
   ]
  },
  {
   "cell_type": "code",
   "execution_count": 145,
   "id": "d0a76cc0",
   "metadata": {},
   "outputs": [
    {
     "name": "stdout",
     "output_type": "stream",
     "text": [
      "The correlation between distance and fare amount is  0.92\n"
     ]
    }
   ],
   "source": [
    "print(f\"The correlation between distance and fare amount is {df.corr(numeric_only=True)['fare'].loc['distance'] : 0.2f}\")"
   ]
  },
  {
   "cell_type": "code",
   "execution_count": 146,
   "id": "54859286",
   "metadata": {},
   "outputs": [],
   "source": [
    "#Question 9 : Average toll paid per ride"
   ]
  },
  {
   "cell_type": "code",
   "execution_count": 147,
   "id": "c6dc0b58",
   "metadata": {},
   "outputs": [
    {
     "data": {
      "text/plain": [
       "0.32532338308457703"
      ]
     },
     "execution_count": 147,
     "metadata": {},
     "output_type": "execute_result"
    }
   ],
   "source": [
    "df['tolls'].mean()"
   ]
  },
  {
   "cell_type": "code",
   "execution_count": 148,
   "id": "0d9f4d5e",
   "metadata": {},
   "outputs": [],
   "source": [
    "#Question 10 : What are the peak hours for taxi rides?"
   ]
  },
  {
   "cell_type": "code",
   "execution_count": 150,
   "id": "8ccdce80",
   "metadata": {},
   "outputs": [],
   "source": [
    "df['pickup_hour'] = df['pickup'].dt.hour"
   ]
  },
  {
   "cell_type": "code",
   "execution_count": 163,
   "id": "0091c656",
   "metadata": {},
   "outputs": [
    {
     "data": {
      "text/plain": [
       "pickup_hour\n",
       "18    417\n",
       "19    406\n",
       "17    388\n",
       "20    368\n",
       "14    360\n",
       "Name: pickup, dtype: int64"
      ]
     },
     "execution_count": 163,
     "metadata": {},
     "output_type": "execute_result"
    }
   ],
   "source": [
    "df.groupby(['pickup_hour']).count().sort_values(['pickup'],ascending=False)['pickup'].head()"
   ]
  },
  {
   "cell_type": "code",
   "execution_count": 165,
   "id": "0dde6c90",
   "metadata": {},
   "outputs": [
    {
     "data": {
      "image/png": "[encoded data removed]",
      "text/plain": [
       "<Figure size 640x480 with 1 Axes>"
      ]
     },
     "metadata": {},
     "output_type": "display_data"
    }
   ],
   "source": [
    "palette = sns.set_palette('rocket_r')\n",
    "sns.barplot(x = df.groupby(['pickup_hour']).count()['pickup'].keys(),\n",
    "           y = df.groupby(['pickup_hour']).count()['pickup'].values,palette=palette)\n",
    "plt.title('Peak hours')\n",
    "plt.show()"
   ]
  },
  {
   "cell_type": "code",
   "execution_count": 171,
   "id": "9adf2381",
   "metadata": {},
   "outputs": [
    {
     "data": {
      "image/png": "[encoded data removed]",
      "text/plain": [
       "<Figure size 640x480 with 1 Axes>"
      ]
     },
     "metadata": {},
     "output_type": "display_data"
    }
   ],
   "source": [
    "sns.lineplot(x = df.groupby(['pickup_hour']).count().sort_values(['pickup'],ascending=False)['pickup'].keys(),\n",
    "             y = df.groupby(['pickup_hour']).count().sort_values(['pickup'],ascending=False)['pickup'].values)\n",
    "plt.xticks(df.groupby(['pickup_hour']).count().sort_values(['pickup'],ascending=False)['pickup'].keys())\n",
    "plt.title(\"Line plot\")\n",
    "plt.show()"
   ]
  },
  {
   "cell_type": "code",
   "execution_count": 172,
   "id": "80461bb9",
   "metadata": {},
   "outputs": [],
   "source": [
    "#Question 11 : How does the total cost vary based on the color of the taxi?"
   ]
  },
  {
   "cell_type": "code",
   "execution_count": 173,
   "id": "f6e9ba6b",
   "metadata": {},
   "outputs": [
    {
     "data": {
      "text/plain": [
       "yellow    5451\n",
       "green      981\n",
       "Name: color, dtype: int64"
      ]
     },
     "execution_count": 173,
     "metadata": {},
     "output_type": "execute_result"
    }
   ],
   "source": [
    "df['color'].value_counts()"
   ]
  },
  {
   "cell_type": "code",
   "execution_count": 177,
   "id": "6d275a62",
   "metadata": {},
   "outputs": [
    {
     "data": {
      "text/plain": [
       "Text(0.5, 1.0, 'Kde plot')"
      ]
     },
     "execution_count": 177,
     "metadata": {},
     "output_type": "execute_result"
    },
    {
     "data": {
      "image/png": "[encoded data removed]",
      "text/plain": [
       "<Figure size 640x480 with 1 Axes>"
      ]
     },
     "metadata": {},
     "output_type": "display_data"
    }
   ],
   "source": [
    "sns.kdeplot(x = df[df['color'] == 'yellow']['total'],label = 'yellow')\n",
    "sns.kdeplot(x = df[df['color'] == 'green']['total'],label = 'green')\n",
    "plt.title('Kde plot')"
   ]
  },
  {
   "cell_type": "code",
   "execution_count": 178,
   "id": "d56e7c26",
   "metadata": {},
   "outputs": [],
   "source": [
    "#Question 12 : What are the top tips given for taxi rides?"
   ]
  },
  {
   "cell_type": "code",
   "execution_count": 182,
   "id": "f5be9fd2",
   "metadata": {},
   "outputs": [
    {
     "data": {
      "text/plain": [
       "2481    33.20\n",
       "5946    23.19\n",
       "5725    20.80\n",
       "4005    20.65\n",
       "1567    20.56\n",
       "Name: tip, dtype: float64"
      ]
     },
     "execution_count": 182,
     "metadata": {},
     "output_type": "execute_result"
    }
   ],
   "source": [
    "df.sort_values(['tip'],ascending=False)['tip'].head()"
   ]
  },
  {
   "cell_type": "code",
   "execution_count": 183,
   "id": "102e62eb",
   "metadata": {},
   "outputs": [],
   "source": [
    "#Question 13 : How does the average fare differ across different pickup and dropoff borough? "
   ]
  },
  {
   "cell_type": "code",
   "execution_count": 189,
   "id": "fbdb2a6c",
   "metadata": {},
   "outputs": [
    {
     "data": {
      "text/plain": [
       "pickup_borough\n",
       "Bronx        20.999091\n",
       "Brooklyn     16.505103\n",
       "Manhattan    11.213676\n",
       "Queens       25.006180\n",
       "Name: fare, dtype: float64"
      ]
     },
     "execution_count": 189,
     "metadata": {},
     "output_type": "execute_result"
    }
   ],
   "source": [
    "df.groupby(['pickup_borough']).mean(numeric_only=True)['fare']"
   ]
  },
  {
   "cell_type": "code",
   "execution_count": 190,
   "id": "b7884be8",
   "metadata": {},
   "outputs": [
    {
     "data": {
      "text/plain": [
       "dropoff_borough\n",
       "Bronx            24.691549\n",
       "Brooklyn         19.275245\n",
       "Manhattan        11.378745\n",
       "Queens           20.642118\n",
       "Staten Island    44.500000\n",
       "Name: fare, dtype: float64"
      ]
     },
     "execution_count": 190,
     "metadata": {},
     "output_type": "execute_result"
    }
   ],
   "source": [
    "df.groupby(['dropoff_borough']).mean(numeric_only=True)['fare']"
   ]
  },
  {
   "cell_type": "code",
   "execution_count": 191,
   "id": "314ec371",
   "metadata": {},
   "outputs": [],
   "source": [
    "#Question 14 : What is the average distance traveled for rides paid with different payment methods?"
   ]
  },
  {
   "cell_type": "code",
   "execution_count": 194,
   "id": "4c1a4fc2",
   "metadata": {},
   "outputs": [
    {
     "data": {
      "text/plain": [
       "payment\n",
       "cash           2.540805\n",
       "credit card    3.220421\n",
       "Name: distance, dtype: float64"
      ]
     },
     "execution_count": 194,
     "metadata": {},
     "output_type": "execute_result"
    }
   ],
   "source": [
    "df.groupby(['payment']).mean(numeric_only=True)['distance']"
   ]
  },
  {
   "cell_type": "markdown",
   "id": "9dadbc10",
   "metadata": {},
   "source": [
    "#Question 15 : Is there any seasonality in taxi ride demand? \n",
    "There is no enough data to understand the seasonality"
   ]
  },
  {
   "cell_type": "markdown",
   "id": "5d780f45",
   "metadata": {},
   "source": [
    "Here are some more questions you can explore with the given data:\n",
    "\n",
    "16. **What is the average trip duration for different pickup and dropoff zones?**\n",
    "    This can help you understand how travel times vary based on the starting and ending locations.\n",
    "\n",
    "17. **Is there a difference in the average fare based on the day of the week or month?**\n",
    "    Analyzing fare variations across different time periods can help you identify trends and seasonality.\n",
    "\n",
    "18. **What is the most common color of taxis used for rides?**\n",
    "    This can provide insights into the most popular taxi type.\n",
    "\n",
    "19. **What is the average total cost per passenger for different payment methods?**\n",
    "    Understanding the average cost per passenger can be important for pricing strategies.\n",
    "\n",
    "20. **Are there any outliers in the fare or total cost data that need to be investigated?**\n",
    "    Identifying outliers can help you understand unusual cases and potential errors in the data.\n",
    "\n",
    "21. **What is the proportion of cash vs. non-cash payments?**\n",
    "    This will give you an idea of the prevalence of cash transactions.\n",
    "\n",
    "22. **Do tips vary based on the distance traveled?**\n",
    "    Analyzing the relationship between distance and tips can provide insights into customer behavior.\n",
    "\n",
    "23. **How does the total cost break down into fare, tolls, and tip components?**\n",
    "    This can help you understand how different factors contribute to the final cost.\n",
    "\n",
    "24. **Which pickup and dropoff zones have the highest and lowest fares on average?**\n",
    "    This can provide insights into fare discrepancies across different zones.\n",
    "\n",
    "25. **What is the overall revenue generated during a specific time period (e.g., a month or a year)?**\n",
    "    Analyzing revenue can help you understand the financial performance of the taxi service.\n",
    "\n",
    "26. **What are the most common pickup and dropoff time slots during the day?**\n",
    "    Understanding peak time slots can help you optimize taxi availability.\n",
    "\n",
    "27. **What is the average fare per passenger based on the number of passengers in a ride?**\n",
    "    This can help you understand if there are any fare variations based on group size.\n",
    "\n",
    "28. **Do different taxi colors have different average trip distances?**\n",
    "    Analyzing the relationship between taxi color and distance traveled can provide interesting insights.\n",
    "\n",
    "29. **What are the most popular pickup and dropoff combinations?**\n",
    "    Identifying popular routes can help you optimize taxi deployment and predict demand.\n",
    "\n",
    "30. **Is there any difference in the fare for trips within the same borough compared to trips between different boroughs?**\n",
    "    Understanding fare variations within and between boroughs can be useful for pricing strategies.\n",
    "\n",
    "These additional questions should further help us explore and understand the data in more detail. Remember that the questions we ask will depend on your specific objectives and what insights you want to gain from the data. Always be curious and open to exploring different angles of the data to make the most out of your analysis."
   ]
  },
  {
   "cell_type": "code",
   "execution_count": 198,
   "id": "c92a9921",
   "metadata": {},
   "outputs": [],
   "source": [
    "#What is the average trip duration for different pickup and dropoff zones? \n",
    "df['trip_duration'] = (df['dropoff'] - df['pickup'])"
   ]
  },
  {
   "cell_type": "code",
   "execution_count": 209,
   "id": "37c971aa",
   "metadata": {},
   "outputs": [],
   "source": [
    "df['trip_duration'] = df['trip_duration'].apply(lambda x : str(x).split()[-1])"
   ]
  },
  {
   "cell_type": "code",
   "execution_count": 212,
   "id": "8aa5ee5d",
   "metadata": {},
   "outputs": [],
   "source": [
    "df['trip_duration'] = pd.to_datetime(df['trip_duration']).dt.time"
   ]
  },
  {
   "cell_type": "code",
   "execution_count": 249,
   "id": "9c107f6f",
   "metadata": {},
   "outputs": [],
   "source": [
    "df['trip_duration_minutes'] = df['trip_duration'].apply(lambda x : int(str(x).split(':')[0])*60 + int(str(x).split(':')[1]) + (float(str(x).split(':')[-1])/60))"
   ]
  },
  {
   "cell_type": "code",
   "execution_count": 250,
   "id": "a0d4feb2",
   "metadata": {},
   "outputs": [
    {
     "data": {
      "text/html": [
       "<div>\n",
       "<style scoped>\n",
       "    .dataframe tbody tr th:only-of-type {\n",
       "        vertical-align: middle;\n",
       "    }\n",
       "\n",
       "    .dataframe tbody tr th {\n",
       "        vertical-align: top;\n",
       "    }\n",
       "\n",
       "    .dataframe thead th {\n",
       "        text-align: right;\n",
       "    }\n",
       "</style>\n",
       "<table border=\"1\" class=\"dataframe\">\n",
       "  <thead>\n",
       "    <tr style=\"text-align: right;\">\n",
       "      <th></th>\n",
       "      <th></th>\n",
       "      <th>passengers</th>\n",
       "      <th>distance</th>\n",
       "      <th>fare</th>\n",
       "      <th>tip</th>\n",
       "      <th>tolls</th>\n",
       "      <th>total</th>\n",
       "      <th>pickup_hour</th>\n",
       "      <th>trip_duration_minutes</th>\n",
       "    </tr>\n",
       "    <tr>\n",
       "      <th>pickup_zone</th>\n",
       "      <th>dropoff_zone</th>\n",
       "      <th></th>\n",
       "      <th></th>\n",
       "      <th></th>\n",
       "      <th></th>\n",
       "      <th></th>\n",
       "      <th></th>\n",
       "      <th></th>\n",
       "      <th></th>\n",
       "    </tr>\n",
       "  </thead>\n",
       "  <tbody>\n",
       "    <tr>\n",
       "      <th>University Heights/Morris Heights</th>\n",
       "      <th>Yorkville East</th>\n",
       "      <td>1.0</td>\n",
       "      <td>22.17</td>\n",
       "      <td>81.86</td>\n",
       "      <td>0.0</td>\n",
       "      <td>0.00</td>\n",
       "      <td>82.36</td>\n",
       "      <td>7.0</td>\n",
       "      <td>107.666667</td>\n",
       "    </tr>\n",
       "    <tr>\n",
       "      <th>Sunset Park West</th>\n",
       "      <th>Saint Albans</th>\n",
       "      <td>1.0</td>\n",
       "      <td>25.51</td>\n",
       "      <td>93.50</td>\n",
       "      <td>0.0</td>\n",
       "      <td>0.00</td>\n",
       "      <td>94.80</td>\n",
       "      <td>0.0</td>\n",
       "      <td>93.966667</td>\n",
       "    </tr>\n",
       "    <tr>\n",
       "      <th>East Flushing</th>\n",
       "      <th>Little Italy/NoLiTa</th>\n",
       "      <td>2.0</td>\n",
       "      <td>33.46</td>\n",
       "      <td>150.00</td>\n",
       "      <td>0.0</td>\n",
       "      <td>18.90</td>\n",
       "      <td>169.70</td>\n",
       "      <td>14.0</td>\n",
       "      <td>89.883333</td>\n",
       "    </tr>\n",
       "    <tr>\n",
       "      <th>Queensbridge/Ravenswood</th>\n",
       "      <th>Flatlands</th>\n",
       "      <td>1.0</td>\n",
       "      <td>12.79</td>\n",
       "      <td>57.00</td>\n",
       "      <td>0.0</td>\n",
       "      <td>0.00</td>\n",
       "      <td>58.80</td>\n",
       "      <td>17.0</td>\n",
       "      <td>88.550000</td>\n",
       "    </tr>\n",
       "    <tr>\n",
       "      <th>Lincoln Square West</th>\n",
       "      <th>JFK Airport</th>\n",
       "      <td>0.0</td>\n",
       "      <td>21.10</td>\n",
       "      <td>52.00</td>\n",
       "      <td>0.0</td>\n",
       "      <td>5.76</td>\n",
       "      <td>65.56</td>\n",
       "      <td>17.0</td>\n",
       "      <td>79.000000</td>\n",
       "    </tr>\n",
       "  </tbody>\n",
       "</table>\n",
       "</div>"
      ],
      "text/plain": [
       "                                                       passengers  distance  \\\n",
       "pickup_zone                       dropoff_zone                                \n",
       "University Heights/Morris Heights Yorkville East              1.0     22.17   \n",
       "Sunset Park West                  Saint Albans                1.0     25.51   \n",
       "East Flushing                     Little Italy/NoLiTa         2.0     33.46   \n",
       "Queensbridge/Ravenswood           Flatlands                   1.0     12.79   \n",
       "Lincoln Square West               JFK Airport                 0.0     21.10   \n",
       "\n",
       "                                                         fare  tip  tolls  \\\n",
       "pickup_zone                       dropoff_zone                              \n",
       "University Heights/Morris Heights Yorkville East        81.86  0.0   0.00   \n",
       "Sunset Park West                  Saint Albans          93.50  0.0   0.00   \n",
       "East Flushing                     Little Italy/NoLiTa  150.00  0.0  18.90   \n",
       "Queensbridge/Ravenswood           Flatlands             57.00  0.0   0.00   \n",
       "Lincoln Square West               JFK Airport           52.00  0.0   5.76   \n",
       "\n",
       "                                                        total  pickup_hour  \\\n",
       "pickup_zone                       dropoff_zone                               \n",
       "University Heights/Morris Heights Yorkville East        82.36          7.0   \n",
       "Sunset Park West                  Saint Albans          94.80          0.0   \n",
       "East Flushing                     Little Italy/NoLiTa  169.70         14.0   \n",
       "Queensbridge/Ravenswood           Flatlands             58.80         17.0   \n",
       "Lincoln Square West               JFK Airport           65.56         17.0   \n",
       "\n",
       "                                                       trip_duration_minutes  \n",
       "pickup_zone                       dropoff_zone                                \n",
       "University Heights/Morris Heights Yorkville East                  107.666667  \n",
       "Sunset Park West                  Saint Albans                     93.966667  \n",
       "East Flushing                     Little Italy/NoLiTa              89.883333  \n",
       "Queensbridge/Ravenswood           Flatlands                        88.550000  \n",
       "Lincoln Square West               JFK Airport                      79.000000  "
      ]
     },
     "execution_count": 250,
     "metadata": {},
     "output_type": "execute_result"
    }
   ],
   "source": [
    "df.groupby(['pickup_zone','dropoff_zone']).mean(numeric_only=True).sort_values(['trip_duration_minutes'],ascending=False).head()"
   ]
  },
  {
   "cell_type": "code",
   "execution_count": 254,
   "id": "ab17f6f1",
   "metadata": {},
   "outputs": [
    {
     "data": {
      "text/html": [
       "<div>\n",
       "<style scoped>\n",
       "    .dataframe tbody tr th:only-of-type {\n",
       "        vertical-align: middle;\n",
       "    }\n",
       "\n",
       "    .dataframe tbody tr th {\n",
       "        vertical-align: top;\n",
       "    }\n",
       "\n",
       "    .dataframe thead th {\n",
       "        text-align: right;\n",
       "    }\n",
       "</style>\n",
       "<table border=\"1\" class=\"dataframe\">\n",
       "  <thead>\n",
       "    <tr style=\"text-align: right;\">\n",
       "      <th></th>\n",
       "      <th>fare</th>\n",
       "    </tr>\n",
       "    <tr>\n",
       "      <th>day_name</th>\n",
       "      <th></th>\n",
       "    </tr>\n",
       "  </thead>\n",
       "  <tbody>\n",
       "    <tr>\n",
       "      <th>Friday</th>\n",
       "      <td>13.123677</td>\n",
       "    </tr>\n",
       "    <tr>\n",
       "      <th>Monday</th>\n",
       "      <td>13.378644</td>\n",
       "    </tr>\n",
       "    <tr>\n",
       "      <th>Saturday</th>\n",
       "      <td>12.486960</td>\n",
       "    </tr>\n",
       "    <tr>\n",
       "      <th>Sunday</th>\n",
       "      <td>12.585783</td>\n",
       "    </tr>\n",
       "    <tr>\n",
       "      <th>Thursday</th>\n",
       "      <td>13.309602</td>\n",
       "    </tr>\n",
       "    <tr>\n",
       "      <th>Tuesday</th>\n",
       "      <td>13.328291</td>\n",
       "    </tr>\n",
       "    <tr>\n",
       "      <th>Wednesday</th>\n",
       "      <td>13.552122</td>\n",
       "    </tr>\n",
       "  </tbody>\n",
       "</table>\n",
       "</div>"
      ],
      "text/plain": [
       "                fare\n",
       "day_name            \n",
       "Friday     13.123677\n",
       "Monday     13.378644\n",
       "Saturday   12.486960\n",
       "Sunday     12.585783\n",
       "Thursday   13.309602\n",
       "Tuesday    13.328291\n",
       "Wednesday  13.552122"
      ]
     },
     "execution_count": 254,
     "metadata": {},
     "output_type": "execute_result"
    }
   ],
   "source": [
    "#Is there a difference in the average fare based on the day of the week or month?\n",
    "df.groupby(['day_name']).mean(numeric_only=True)[['fare']]"
   ]
  },
  {
   "cell_type": "code",
   "execution_count": 255,
   "id": "3d7a005c",
   "metadata": {},
   "outputs": [
    {
     "data": {
      "text/plain": [
       "yellow    5451\n",
       "green      981\n",
       "Name: color, dtype: int64"
      ]
     },
     "execution_count": 255,
     "metadata": {},
     "output_type": "execute_result"
    }
   ],
   "source": [
    "#What is the most common color of taxis used for rides?\n",
    "df['color'].value_counts()"
   ]
  },
  {
   "cell_type": "code",
   "execution_count": 258,
   "id": "b94b2096",
   "metadata": {},
   "outputs": [
    {
     "data": {
      "text/html": [
       "<div>\n",
       "<style scoped>\n",
       "    .dataframe tbody tr th:only-of-type {\n",
       "        vertical-align: middle;\n",
       "    }\n",
       "\n",
       "    .dataframe tbody tr th {\n",
       "        vertical-align: top;\n",
       "    }\n",
       "\n",
       "    .dataframe thead th {\n",
       "        text-align: right;\n",
       "    }\n",
       "</style>\n",
       "<table border=\"1\" class=\"dataframe\">\n",
       "  <thead>\n",
       "    <tr style=\"text-align: right;\">\n",
       "      <th></th>\n",
       "      <th></th>\n",
       "      <th>total</th>\n",
       "    </tr>\n",
       "    <tr>\n",
       "      <th>passengers</th>\n",
       "      <th>payment</th>\n",
       "      <th></th>\n",
       "    </tr>\n",
       "  </thead>\n",
       "  <tbody>\n",
       "    <tr>\n",
       "      <th rowspan=\"2\" valign=\"top\">0.0</th>\n",
       "      <th>cash</th>\n",
       "      <td>17.912222</td>\n",
       "    </tr>\n",
       "    <tr>\n",
       "      <th>credit card</th>\n",
       "      <td>19.210128</td>\n",
       "    </tr>\n",
       "    <tr>\n",
       "      <th rowspan=\"2\" valign=\"top\">1.0</th>\n",
       "      <th>cash</th>\n",
       "      <td>14.096214</td>\n",
       "    </tr>\n",
       "    <tr>\n",
       "      <th>credit card</th>\n",
       "      <td>20.028652</td>\n",
       "    </tr>\n",
       "    <tr>\n",
       "      <th rowspan=\"2\" valign=\"top\">2.0</th>\n",
       "      <th>cash</th>\n",
       "      <td>15.500712</td>\n",
       "    </tr>\n",
       "    <tr>\n",
       "      <th>credit card</th>\n",
       "      <td>20.402562</td>\n",
       "    </tr>\n",
       "    <tr>\n",
       "      <th rowspan=\"2\" valign=\"top\">3.0</th>\n",
       "      <th>cash</th>\n",
       "      <td>16.528608</td>\n",
       "    </tr>\n",
       "    <tr>\n",
       "      <th>credit card</th>\n",
       "      <td>21.761524</td>\n",
       "    </tr>\n",
       "    <tr>\n",
       "      <th rowspan=\"2\" valign=\"top\">4.0</th>\n",
       "      <th>cash</th>\n",
       "      <td>14.808667</td>\n",
       "    </tr>\n",
       "    <tr>\n",
       "      <th>credit card</th>\n",
       "      <td>20.654625</td>\n",
       "    </tr>\n",
       "    <tr>\n",
       "      <th rowspan=\"2\" valign=\"top\">5.0</th>\n",
       "      <th>cash</th>\n",
       "      <td>15.646538</td>\n",
       "    </tr>\n",
       "    <tr>\n",
       "      <th>credit card</th>\n",
       "      <td>19.118693</td>\n",
       "    </tr>\n",
       "    <tr>\n",
       "      <th rowspan=\"2\" valign=\"top\">6.0</th>\n",
       "      <th>cash</th>\n",
       "      <td>20.935385</td>\n",
       "    </tr>\n",
       "    <tr>\n",
       "      <th>credit card</th>\n",
       "      <td>19.216930</td>\n",
       "    </tr>\n",
       "  </tbody>\n",
       "</table>\n",
       "</div>"
      ],
      "text/plain": [
       "                            total\n",
       "passengers payment               \n",
       "0.0        cash         17.912222\n",
       "           credit card  19.210128\n",
       "1.0        cash         14.096214\n",
       "           credit card  20.028652\n",
       "2.0        cash         15.500712\n",
       "           credit card  20.402562\n",
       "3.0        cash         16.528608\n",
       "           credit card  21.761524\n",
       "4.0        cash         14.808667\n",
       "           credit card  20.654625\n",
       "5.0        cash         15.646538\n",
       "           credit card  19.118693\n",
       "6.0        cash         20.935385\n",
       "           credit card  19.216930"
      ]
     },
     "execution_count": 258,
     "metadata": {},
     "output_type": "execute_result"
    }
   ],
   "source": [
    "#What is the average total cost per passenger for different payment methods?\n",
    "df.groupby(['passengers','payment']).mean(numeric_only=True)[['total']]"
   ]
  },
  {
   "cell_type": "code",
   "execution_count": 260,
   "id": "713fdb22",
   "metadata": {},
   "outputs": [],
   "source": [
    "#From above table,\n",
    "#we can conclude that there are few instance with zero passengers, this could be a mistake or it is a delivery"
   ]
  },
  {
   "cell_type": "code",
   "execution_count": 267,
   "id": "c695c220",
   "metadata": {},
   "outputs": [
    {
     "data": {
      "text/plain": [
       "Text(0.5, 0.98, 'Outler detection')"
      ]
     },
     "execution_count": 267,
     "metadata": {},
     "output_type": "execute_result"
    },
    {
     "data": {
      "image/png": "[encoded data removed]",
      "text/plain": [
       "<Figure size 640x480 with 2 Axes>"
      ]
     },
     "metadata": {},
     "output_type": "display_data"
    }
   ],
   "source": [
    "#Are there any outliers in the fare or total cost data that need to be investigated? \n",
    "plt.subplot(1,2,1)\n",
    "sns.boxplot(data = df,x = 'fare')\n",
    "plt.subplot(1,2,2)\n",
    "sns.boxplot(data = df,x = 'total')\n",
    "\n",
    "plt.suptitle('Outler detection')"
   ]
  },
  {
   "cell_type": "code",
   "execution_count": 268,
   "id": "743af978",
   "metadata": {},
   "outputs": [
    {
     "data": {
      "text/plain": [
       "credit card    4582\n",
       "cash           1850\n",
       "Name: payment, dtype: int64"
      ]
     },
     "execution_count": 268,
     "metadata": {},
     "output_type": "execute_result"
    }
   ],
   "source": [
    "df['payment'].value_counts()"
   ]
  },
  {
   "cell_type": "code",
   "execution_count": 270,
   "id": "eaa0465e",
   "metadata": {},
   "outputs": [
    {
     "data": {
      "image/png": "[encoded data removed]",
      "text/plain": [
       "<Figure size 640x480 with 1 Axes>"
      ]
     },
     "metadata": {},
     "output_type": "display_data"
    }
   ],
   "source": [
    "#What is the proportion of cash vs. non-cash payments? \n",
    "plt.pie(df['payment'].value_counts(),labels=df['payment'].value_counts().keys(),autopct='%0.2f%%')\n",
    "plt.title('Proportion of payment meathod')\n",
    "plt.show()"
   ]
  },
  {
   "cell_type": "code",
   "execution_count": 271,
   "id": "34c0a081",
   "metadata": {},
   "outputs": [],
   "source": [
    "#Do tips vary based on the distance traveled? "
   ]
  },
  {
   "cell_type": "code",
   "execution_count": 281,
   "id": "2bce780b",
   "metadata": {},
   "outputs": [
    {
     "data": {
      "text/plain": [
       "Text(0.5, 1.0, 'Correaltion between distance and tip')"
      ]
     },
     "execution_count": 281,
     "metadata": {},
     "output_type": "execute_result"
    },
    {
     "data": {
      "image/png": "[encoded data removed]",
      "text/plain": [
       "<Figure size 640x480 with 1 Axes>"
      ]
     },
     "metadata": {},
     "output_type": "display_data"
    }
   ],
   "source": [
    "sns.heatmap(df.corr(numeric_only=True)[['distance']].loc[['tip']],cbar=False,annot=True)\n",
    "plt.title('Correaltion between distance and tip')"
   ]
  },
  {
   "cell_type": "code",
   "execution_count": 282,
   "id": "d7a37de6",
   "metadata": {},
   "outputs": [
    {
     "data": {
      "text/plain": [
       "<Axes: xlabel='distance', ylabel='tip'>"
      ]
     },
     "execution_count": 282,
     "metadata": {},
     "output_type": "execute_result"
    },
    {
     "data": {
      "image/png": "[encoded data removed]",
      "text/plain": [
       "<Figure size 640x480 with 1 Axes>"
      ]
     },
     "metadata": {},
     "output_type": "display_data"
    }
   ],
   "source": [
    "sns.scatterplot(data = df,x = 'distance',y = 'tip')"
   ]
  },
  {
   "cell_type": "code",
   "execution_count": 283,
   "id": "3ec8d35e",
   "metadata": {},
   "outputs": [
    {
     "data": {
      "text/plain": [
       "<Axes: xlabel='distance', ylabel='tip'>"
      ]
     },
     "execution_count": 283,
     "metadata": {},
     "output_type": "execute_result"
    },
    {
     "data": {
      "image/png": "[encoded data removed]",
      "text/plain": [
       "<Figure size 640x480 with 1 Axes>"
      ]
     },
     "metadata": {},
     "output_type": "display_data"
    }
   ],
   "source": [
    "sns.regplot(data = df,x = 'distance',y = 'tip')"
   ]
  },
  {
   "cell_type": "code",
   "execution_count": 284,
   "id": "604cc778",
   "metadata": {},
   "outputs": [],
   "source": [
    "#Conclusion : With increase in distance there is increase in tip"
   ]
  },
  {
   "cell_type": "code",
   "execution_count": 285,
   "id": "dcb6db7f",
   "metadata": {},
   "outputs": [],
   "source": [
    "#How does the total cost break down into fare, tolls, and tip components? "
   ]
  },
  {
   "cell_type": "code",
   "execution_count": 286,
   "id": "b99056c2",
   "metadata": {},
   "outputs": [
    {
     "data": {
      "text/html": [
       "<div>\n",
       "<style scoped>\n",
       "    .dataframe tbody tr th:only-of-type {\n",
       "        vertical-align: middle;\n",
       "    }\n",
       "\n",
       "    .dataframe tbody tr th {\n",
       "        vertical-align: top;\n",
       "    }\n",
       "\n",
       "    .dataframe thead th {\n",
       "        text-align: right;\n",
       "    }\n",
       "</style>\n",
       "<table border=\"1\" class=\"dataframe\">\n",
       "  <thead>\n",
       "    <tr style=\"text-align: right;\">\n",
       "      <th></th>\n",
       "      <th>fare</th>\n",
       "      <th>tolls</th>\n",
       "      <th>tip</th>\n",
       "      <th>total</th>\n",
       "    </tr>\n",
       "  </thead>\n",
       "  <tbody>\n",
       "    <tr>\n",
       "      <th>1</th>\n",
       "      <td>10.0</td>\n",
       "      <td>0.0</td>\n",
       "      <td>2.00</td>\n",
       "      <td>15.80</td>\n",
       "    </tr>\n",
       "    <tr>\n",
       "      <th>2</th>\n",
       "      <td>22.5</td>\n",
       "      <td>0.0</td>\n",
       "      <td>1.00</td>\n",
       "      <td>27.30</td>\n",
       "    </tr>\n",
       "    <tr>\n",
       "      <th>3</th>\n",
       "      <td>25.5</td>\n",
       "      <td>0.0</td>\n",
       "      <td>7.30</td>\n",
       "      <td>36.60</td>\n",
       "    </tr>\n",
       "    <tr>\n",
       "      <th>4</th>\n",
       "      <td>4.5</td>\n",
       "      <td>0.0</td>\n",
       "      <td>1.00</td>\n",
       "      <td>9.30</td>\n",
       "    </tr>\n",
       "    <tr>\n",
       "      <th>5</th>\n",
       "      <td>7.0</td>\n",
       "      <td>0.0</td>\n",
       "      <td>0.00</td>\n",
       "      <td>8.30</td>\n",
       "    </tr>\n",
       "    <tr>\n",
       "      <th>...</th>\n",
       "      <td>...</td>\n",
       "      <td>...</td>\n",
       "      <td>...</td>\n",
       "      <td>...</td>\n",
       "    </tr>\n",
       "    <tr>\n",
       "      <th>6428</th>\n",
       "      <td>7.5</td>\n",
       "      <td>0.0</td>\n",
       "      <td>0.70</td>\n",
       "      <td>12.00</td>\n",
       "    </tr>\n",
       "    <tr>\n",
       "      <th>6429</th>\n",
       "      <td>3.5</td>\n",
       "      <td>0.0</td>\n",
       "      <td>1.45</td>\n",
       "      <td>8.75</td>\n",
       "    </tr>\n",
       "    <tr>\n",
       "      <th>6430</th>\n",
       "      <td>4.5</td>\n",
       "      <td>0.0</td>\n",
       "      <td>1.66</td>\n",
       "      <td>9.96</td>\n",
       "    </tr>\n",
       "    <tr>\n",
       "      <th>6431</th>\n",
       "      <td>11.5</td>\n",
       "      <td>0.0</td>\n",
       "      <td>3.82</td>\n",
       "      <td>19.12</td>\n",
       "    </tr>\n",
       "    <tr>\n",
       "      <th>6432</th>\n",
       "      <td>37.0</td>\n",
       "      <td>0.0</td>\n",
       "      <td>0.00</td>\n",
       "      <td>40.80</td>\n",
       "    </tr>\n",
       "  </tbody>\n",
       "</table>\n",
       "<p>6432 rows × 4 columns</p>\n",
       "</div>"
      ],
      "text/plain": [
       "      fare  tolls   tip  total\n",
       "1     10.0    0.0  2.00  15.80\n",
       "2     22.5    0.0  1.00  27.30\n",
       "3     25.5    0.0  7.30  36.60\n",
       "4      4.5    0.0  1.00   9.30\n",
       "5      7.0    0.0  0.00   8.30\n",
       "...    ...    ...   ...    ...\n",
       "6428   7.5    0.0  0.70  12.00\n",
       "6429   3.5    0.0  1.45   8.75\n",
       "6430   4.5    0.0  1.66   9.96\n",
       "6431  11.5    0.0  3.82  19.12\n",
       "6432  37.0    0.0  0.00  40.80\n",
       "\n",
       "[6432 rows x 4 columns]"
      ]
     },
     "execution_count": 286,
     "metadata": {},
     "output_type": "execute_result"
    }
   ],
   "source": [
    "df[['fare','tolls','tip','total']]"
   ]
  },
  {
   "cell_type": "code",
   "execution_count": 287,
   "id": "5382df33",
   "metadata": {},
   "outputs": [],
   "source": [
    "df['miscellinious'] = df['total'] - (df['fare'] + df['tolls'] + df['tip'])"
   ]
  },
  {
   "cell_type": "code",
   "execution_count": 288,
   "id": "13870c31",
   "metadata": {},
   "outputs": [
    {
     "data": {
      "text/html": [
       "<div>\n",
       "<style scoped>\n",
       "    .dataframe tbody tr th:only-of-type {\n",
       "        vertical-align: middle;\n",
       "    }\n",
       "\n",
       "    .dataframe tbody tr th {\n",
       "        vertical-align: top;\n",
       "    }\n",
       "\n",
       "    .dataframe thead th {\n",
       "        text-align: right;\n",
       "    }\n",
       "</style>\n",
       "<table border=\"1\" class=\"dataframe\">\n",
       "  <thead>\n",
       "    <tr style=\"text-align: right;\">\n",
       "      <th></th>\n",
       "      <th>fare</th>\n",
       "      <th>tolls</th>\n",
       "      <th>tip</th>\n",
       "      <th>total</th>\n",
       "      <th>miscellinious</th>\n",
       "    </tr>\n",
       "  </thead>\n",
       "  <tbody>\n",
       "    <tr>\n",
       "      <th>1</th>\n",
       "      <td>10.0</td>\n",
       "      <td>0.0</td>\n",
       "      <td>2.00</td>\n",
       "      <td>15.80</td>\n",
       "      <td>3.8</td>\n",
       "    </tr>\n",
       "    <tr>\n",
       "      <th>2</th>\n",
       "      <td>22.5</td>\n",
       "      <td>0.0</td>\n",
       "      <td>1.00</td>\n",
       "      <td>27.30</td>\n",
       "      <td>3.8</td>\n",
       "    </tr>\n",
       "    <tr>\n",
       "      <th>3</th>\n",
       "      <td>25.5</td>\n",
       "      <td>0.0</td>\n",
       "      <td>7.30</td>\n",
       "      <td>36.60</td>\n",
       "      <td>3.8</td>\n",
       "    </tr>\n",
       "    <tr>\n",
       "      <th>4</th>\n",
       "      <td>4.5</td>\n",
       "      <td>0.0</td>\n",
       "      <td>1.00</td>\n",
       "      <td>9.30</td>\n",
       "      <td>3.8</td>\n",
       "    </tr>\n",
       "    <tr>\n",
       "      <th>5</th>\n",
       "      <td>7.0</td>\n",
       "      <td>0.0</td>\n",
       "      <td>0.00</td>\n",
       "      <td>8.30</td>\n",
       "      <td>1.3</td>\n",
       "    </tr>\n",
       "    <tr>\n",
       "      <th>...</th>\n",
       "      <td>...</td>\n",
       "      <td>...</td>\n",
       "      <td>...</td>\n",
       "      <td>...</td>\n",
       "      <td>...</td>\n",
       "    </tr>\n",
       "    <tr>\n",
       "      <th>6428</th>\n",
       "      <td>7.5</td>\n",
       "      <td>0.0</td>\n",
       "      <td>0.70</td>\n",
       "      <td>12.00</td>\n",
       "      <td>3.8</td>\n",
       "    </tr>\n",
       "    <tr>\n",
       "      <th>6429</th>\n",
       "      <td>3.5</td>\n",
       "      <td>0.0</td>\n",
       "      <td>1.45</td>\n",
       "      <td>8.75</td>\n",
       "      <td>3.8</td>\n",
       "    </tr>\n",
       "    <tr>\n",
       "      <th>6430</th>\n",
       "      <td>4.5</td>\n",
       "      <td>0.0</td>\n",
       "      <td>1.66</td>\n",
       "      <td>9.96</td>\n",
       "      <td>3.8</td>\n",
       "    </tr>\n",
       "    <tr>\n",
       "      <th>6431</th>\n",
       "      <td>11.5</td>\n",
       "      <td>0.0</td>\n",
       "      <td>3.82</td>\n",
       "      <td>19.12</td>\n",
       "      <td>3.8</td>\n",
       "    </tr>\n",
       "    <tr>\n",
       "      <th>6432</th>\n",
       "      <td>37.0</td>\n",
       "      <td>0.0</td>\n",
       "      <td>0.00</td>\n",
       "      <td>40.80</td>\n",
       "      <td>3.8</td>\n",
       "    </tr>\n",
       "  </tbody>\n",
       "</table>\n",
       "<p>6432 rows × 5 columns</p>\n",
       "</div>"
      ],
      "text/plain": [
       "      fare  tolls   tip  total  miscellinious\n",
       "1     10.0    0.0  2.00  15.80            3.8\n",
       "2     22.5    0.0  1.00  27.30            3.8\n",
       "3     25.5    0.0  7.30  36.60            3.8\n",
       "4      4.5    0.0  1.00   9.30            3.8\n",
       "5      7.0    0.0  0.00   8.30            1.3\n",
       "...    ...    ...   ...    ...            ...\n",
       "6428   7.5    0.0  0.70  12.00            3.8\n",
       "6429   3.5    0.0  1.45   8.75            3.8\n",
       "6430   4.5    0.0  1.66   9.96            3.8\n",
       "6431  11.5    0.0  3.82  19.12            3.8\n",
       "6432  37.0    0.0  0.00  40.80            3.8\n",
       "\n",
       "[6432 rows x 5 columns]"
      ]
     },
     "execution_count": 288,
     "metadata": {},
     "output_type": "execute_result"
    }
   ],
   "source": [
    "df[['fare','tolls','tip','total','miscellinious']]"
   ]
  },
  {
   "cell_type": "code",
   "execution_count": 289,
   "id": "759b1011",
   "metadata": {},
   "outputs": [
    {
     "data": {
      "text/plain": [
       "3.30    1784\n",
       "3.80    1090\n",
       "4.30     608\n",
       "3.30     366\n",
       "0.80     298\n",
       "        ... \n",
       "2.80       1\n",
       "5.75       1\n",
       "0.80       1\n",
       "5.75       1\n",
       "3.55       1\n",
       "Name: miscellinious, Length: 63, dtype: int64"
      ]
     },
     "execution_count": 289,
     "metadata": {},
     "output_type": "execute_result"
    }
   ],
   "source": [
    "df['miscellinious'].value_counts()"
   ]
  },
  {
   "cell_type": "code",
   "execution_count": 290,
   "id": "a0ce614b",
   "metadata": {},
   "outputs": [],
   "source": [
    "df['fare_percent'] = (df['fare']/df['total'])*100\n",
    "df['tolls_percent'] = (df['tolls']/df['total'])*100\n",
    "df['tip_percent'] = (df['tip']/df['total'])*100\n",
    "df['miscellinious_percent'] = (df['miscellinious']/df['total'])*100"
   ]
  },
  {
   "cell_type": "code",
   "execution_count": 291,
   "id": "73a47df6",
   "metadata": {},
   "outputs": [
    {
     "data": {
      "text/plain": [
       "1       100.0\n",
       "2       100.0\n",
       "3       100.0\n",
       "4       100.0\n",
       "5       100.0\n",
       "        ...  \n",
       "6428    100.0\n",
       "6429    100.0\n",
       "6430    100.0\n",
       "6431    100.0\n",
       "6432    100.0\n",
       "Length: 6432, dtype: float64"
      ]
     },
     "execution_count": 291,
     "metadata": {},
     "output_type": "execute_result"
    }
   ],
   "source": [
    "df['fare_percent']  + df['tolls_percent'] + df['tip_percent'] + df['miscellinious_percent']"
   ]
  },
  {
   "cell_type": "code",
   "execution_count": 296,
   "id": "0412e5be",
   "metadata": {},
   "outputs": [
    {
     "data": {
      "text/plain": [
       "99.99999999999999"
      ]
     },
     "execution_count": 296,
     "metadata": {},
     "output_type": "execute_result"
    }
   ],
   "source": [
    "df.mean(numeric_only=True).iloc[9:].values.sum()"
   ]
  },
  {
   "cell_type": "code",
   "execution_count": 297,
   "id": "d15155cc",
   "metadata": {},
   "outputs": [
    {
     "data": {
      "text/plain": [
       "fare_percent             67.358077\n",
       "tolls_percent             0.613643\n",
       "tip_percent              10.033214\n",
       "miscellinious_percent    21.995067\n",
       "dtype: float64"
      ]
     },
     "execution_count": 297,
     "metadata": {},
     "output_type": "execute_result"
    }
   ],
   "source": [
    "df.mean(numeric_only=True).iloc[9:]"
   ]
  },
  {
   "cell_type": "code",
   "execution_count": 298,
   "id": "d4310f06",
   "metadata": {},
   "outputs": [],
   "source": [
    "#Which pickup and dropoff zones have the highest and lowest fares on average?"
   ]
  },
  {
   "cell_type": "code",
   "execution_count": 300,
   "id": "71c4281a",
   "metadata": {},
   "outputs": [
    {
     "data": {
      "text/plain": [
       "Index(['pickup', 'dropoff', 'passengers', 'distance', 'fare', 'tip', 'tolls',\n",
       "       'total', 'color', 'payment', 'pickup_zone', 'dropoff_zone',\n",
       "       'pickup_borough', 'dropoff_borough', 'day_name', 'pickup_hour',\n",
       "       'trip_duration', 'trip_duration_minutes', 'miscellinious',\n",
       "       'fare_percent', 'tolls_percent', 'tip_percent',\n",
       "       'miscellinious_percent'],\n",
       "      dtype='object')"
      ]
     },
     "execution_count": 300,
     "metadata": {},
     "output_type": "execute_result"
    }
   ],
   "source": [
    "df.columns"
   ]
  },
  {
   "cell_type": "code",
   "execution_count": 304,
   "id": "a988c4ca",
   "metadata": {},
   "outputs": [
    {
     "data": {
      "text/html": [
       "<div>\n",
       "<style scoped>\n",
       "    .dataframe tbody tr th:only-of-type {\n",
       "        vertical-align: middle;\n",
       "    }\n",
       "\n",
       "    .dataframe tbody tr th {\n",
       "        vertical-align: top;\n",
       "    }\n",
       "\n",
       "    .dataframe thead th {\n",
       "        text-align: right;\n",
       "    }\n",
       "</style>\n",
       "<table border=\"1\" class=\"dataframe\">\n",
       "  <thead>\n",
       "    <tr style=\"text-align: right;\">\n",
       "      <th></th>\n",
       "      <th>passengers</th>\n",
       "      <th>distance</th>\n",
       "      <th>fare</th>\n",
       "      <th>tip</th>\n",
       "      <th>tolls</th>\n",
       "      <th>total</th>\n",
       "      <th>pickup_hour</th>\n",
       "      <th>trip_duration_minutes</th>\n",
       "      <th>miscellinious</th>\n",
       "      <th>fare_percent</th>\n",
       "      <th>tolls_percent</th>\n",
       "      <th>tip_percent</th>\n",
       "      <th>miscellinious_percent</th>\n",
       "    </tr>\n",
       "    <tr>\n",
       "      <th>pickup_zone</th>\n",
       "      <th></th>\n",
       "      <th></th>\n",
       "      <th></th>\n",
       "      <th></th>\n",
       "      <th></th>\n",
       "      <th></th>\n",
       "      <th></th>\n",
       "      <th></th>\n",
       "      <th></th>\n",
       "      <th></th>\n",
       "      <th></th>\n",
       "      <th></th>\n",
       "      <th></th>\n",
       "    </tr>\n",
       "  </thead>\n",
       "  <tbody>\n",
       "    <tr>\n",
       "      <th>Dyker Heights</th>\n",
       "      <td>1.0</td>\n",
       "      <td>0.0</td>\n",
       "      <td>2.5</td>\n",
       "      <td>0.0</td>\n",
       "      <td>0.0</td>\n",
       "      <td>3.3</td>\n",
       "      <td>7.0</td>\n",
       "      <td>0.066667</td>\n",
       "      <td>0.8</td>\n",
       "      <td>75.757576</td>\n",
       "      <td>0.0</td>\n",
       "      <td>0.0</td>\n",
       "      <td>24.242424</td>\n",
       "    </tr>\n",
       "  </tbody>\n",
       "</table>\n",
       "</div>"
      ],
      "text/plain": [
       "               passengers  distance  fare  tip  tolls  total  pickup_hour  \\\n",
       "pickup_zone                                                                 \n",
       "Dyker Heights         1.0       0.0   2.5  0.0    0.0    3.3          7.0   \n",
       "\n",
       "               trip_duration_minutes  miscellinious  fare_percent  \\\n",
       "pickup_zone                                                         \n",
       "Dyker Heights               0.066667            0.8     75.757576   \n",
       "\n",
       "               tolls_percent  tip_percent  miscellinious_percent  \n",
       "pickup_zone                                                       \n",
       "Dyker Heights            0.0          0.0              24.242424  "
      ]
     },
     "execution_count": 304,
     "metadata": {},
     "output_type": "execute_result"
    }
   ],
   "source": [
    "df.groupby(['pickup_zone']).mean(numeric_only=True).sort_values(['fare'],ascending=True).head(1)\n"
   ]
  },
  {
   "cell_type": "code",
   "execution_count": 305,
   "id": "741295ed",
   "metadata": {},
   "outputs": [
    {
     "data": {
      "text/html": [
       "<div>\n",
       "<style scoped>\n",
       "    .dataframe tbody tr th:only-of-type {\n",
       "        vertical-align: middle;\n",
       "    }\n",
       "\n",
       "    .dataframe tbody tr th {\n",
       "        vertical-align: top;\n",
       "    }\n",
       "\n",
       "    .dataframe thead th {\n",
       "        text-align: right;\n",
       "    }\n",
       "</style>\n",
       "<table border=\"1\" class=\"dataframe\">\n",
       "  <thead>\n",
       "    <tr style=\"text-align: right;\">\n",
       "      <th></th>\n",
       "      <th>passengers</th>\n",
       "      <th>distance</th>\n",
       "      <th>fare</th>\n",
       "      <th>tip</th>\n",
       "      <th>tolls</th>\n",
       "      <th>total</th>\n",
       "      <th>pickup_hour</th>\n",
       "      <th>trip_duration_minutes</th>\n",
       "      <th>miscellinious</th>\n",
       "      <th>fare_percent</th>\n",
       "      <th>tolls_percent</th>\n",
       "      <th>tip_percent</th>\n",
       "      <th>miscellinious_percent</th>\n",
       "    </tr>\n",
       "    <tr>\n",
       "      <th>pickup_zone</th>\n",
       "      <th></th>\n",
       "      <th></th>\n",
       "      <th></th>\n",
       "      <th></th>\n",
       "      <th></th>\n",
       "      <th></th>\n",
       "      <th></th>\n",
       "      <th></th>\n",
       "      <th></th>\n",
       "      <th></th>\n",
       "      <th></th>\n",
       "      <th></th>\n",
       "      <th></th>\n",
       "    </tr>\n",
       "  </thead>\n",
       "  <tbody>\n",
       "    <tr>\n",
       "      <th>East Flushing</th>\n",
       "      <td>1.5</td>\n",
       "      <td>17.75</td>\n",
       "      <td>80.25</td>\n",
       "      <td>0.0</td>\n",
       "      <td>9.45</td>\n",
       "      <td>90.5</td>\n",
       "      <td>12.5</td>\n",
       "      <td>50.958333</td>\n",
       "      <td>0.8</td>\n",
       "      <td>90.655816</td>\n",
       "      <td>5.568651</td>\n",
       "      <td>0.0</td>\n",
       "      <td>3.775533</td>\n",
       "    </tr>\n",
       "  </tbody>\n",
       "</table>\n",
       "</div>"
      ],
      "text/plain": [
       "               passengers  distance   fare  tip  tolls  total  pickup_hour  \\\n",
       "pickup_zone                                                                  \n",
       "East Flushing         1.5     17.75  80.25  0.0   9.45   90.5         12.5   \n",
       "\n",
       "               trip_duration_minutes  miscellinious  fare_percent  \\\n",
       "pickup_zone                                                         \n",
       "East Flushing              50.958333            0.8     90.655816   \n",
       "\n",
       "               tolls_percent  tip_percent  miscellinious_percent  \n",
       "pickup_zone                                                       \n",
       "East Flushing       5.568651          0.0               3.775533  "
      ]
     },
     "execution_count": 305,
     "metadata": {},
     "output_type": "execute_result"
    }
   ],
   "source": [
    "df.groupby(['pickup_zone']).mean(numeric_only=True).sort_values(['fare'],ascending=False).head(1)"
   ]
  },
  {
   "cell_type": "code",
   "execution_count": 307,
   "id": "5263185a",
   "metadata": {},
   "outputs": [
    {
     "data": {
      "text/html": [
       "<div>\n",
       "<style scoped>\n",
       "    .dataframe tbody tr th:only-of-type {\n",
       "        vertical-align: middle;\n",
       "    }\n",
       "\n",
       "    .dataframe tbody tr th {\n",
       "        vertical-align: top;\n",
       "    }\n",
       "\n",
       "    .dataframe thead th {\n",
       "        text-align: right;\n",
       "    }\n",
       "</style>\n",
       "<table border=\"1\" class=\"dataframe\">\n",
       "  <thead>\n",
       "    <tr style=\"text-align: right;\">\n",
       "      <th></th>\n",
       "      <th>passengers</th>\n",
       "      <th>distance</th>\n",
       "      <th>fare</th>\n",
       "      <th>tip</th>\n",
       "      <th>tolls</th>\n",
       "      <th>total</th>\n",
       "      <th>pickup_hour</th>\n",
       "      <th>trip_duration_minutes</th>\n",
       "      <th>miscellinious</th>\n",
       "      <th>fare_percent</th>\n",
       "      <th>tolls_percent</th>\n",
       "      <th>tip_percent</th>\n",
       "      <th>miscellinious_percent</th>\n",
       "    </tr>\n",
       "    <tr>\n",
       "      <th>dropoff_zone</th>\n",
       "      <th></th>\n",
       "      <th></th>\n",
       "      <th></th>\n",
       "      <th></th>\n",
       "      <th></th>\n",
       "      <th></th>\n",
       "      <th></th>\n",
       "      <th></th>\n",
       "      <th></th>\n",
       "      <th></th>\n",
       "      <th></th>\n",
       "      <th></th>\n",
       "      <th></th>\n",
       "    </tr>\n",
       "  </thead>\n",
       "  <tbody>\n",
       "    <tr>\n",
       "      <th>East Flushing</th>\n",
       "      <td>1.0</td>\n",
       "      <td>0.89</td>\n",
       "      <td>5.5</td>\n",
       "      <td>0.0</td>\n",
       "      <td>0.0</td>\n",
       "      <td>6.3</td>\n",
       "      <td>12.0</td>\n",
       "      <td>4.716667</td>\n",
       "      <td>0.8</td>\n",
       "      <td>87.301587</td>\n",
       "      <td>0.0</td>\n",
       "      <td>0.0</td>\n",
       "      <td>12.698413</td>\n",
       "    </tr>\n",
       "  </tbody>\n",
       "</table>\n",
       "</div>"
      ],
      "text/plain": [
       "               passengers  distance  fare  tip  tolls  total  pickup_hour  \\\n",
       "dropoff_zone                                                                \n",
       "East Flushing         1.0      0.89   5.5  0.0    0.0    6.3         12.0   \n",
       "\n",
       "               trip_duration_minutes  miscellinious  fare_percent  \\\n",
       "dropoff_zone                                                        \n",
       "East Flushing               4.716667            0.8     87.301587   \n",
       "\n",
       "               tolls_percent  tip_percent  miscellinious_percent  \n",
       "dropoff_zone                                                      \n",
       "East Flushing            0.0          0.0              12.698413  "
      ]
     },
     "execution_count": 307,
     "metadata": {},
     "output_type": "execute_result"
    }
   ],
   "source": [
    "df.groupby(['dropoff_zone']).mean(numeric_only=True).sort_values(['fare'],ascending=True).head(1)"
   ]
  },
  {
   "cell_type": "code",
   "execution_count": 308,
   "id": "be998b82",
   "metadata": {},
   "outputs": [
    {
     "data": {
      "text/html": [
       "<div>\n",
       "<style scoped>\n",
       "    .dataframe tbody tr th:only-of-type {\n",
       "        vertical-align: middle;\n",
       "    }\n",
       "\n",
       "    .dataframe tbody tr th {\n",
       "        vertical-align: top;\n",
       "    }\n",
       "\n",
       "    .dataframe thead th {\n",
       "        text-align: right;\n",
       "    }\n",
       "</style>\n",
       "<table border=\"1\" class=\"dataframe\">\n",
       "  <thead>\n",
       "    <tr style=\"text-align: right;\">\n",
       "      <th></th>\n",
       "      <th>passengers</th>\n",
       "      <th>distance</th>\n",
       "      <th>fare</th>\n",
       "      <th>tip</th>\n",
       "      <th>tolls</th>\n",
       "      <th>total</th>\n",
       "      <th>pickup_hour</th>\n",
       "      <th>trip_duration_minutes</th>\n",
       "      <th>miscellinious</th>\n",
       "      <th>fare_percent</th>\n",
       "      <th>tolls_percent</th>\n",
       "      <th>tip_percent</th>\n",
       "      <th>miscellinious_percent</th>\n",
       "    </tr>\n",
       "    <tr>\n",
       "      <th>dropoff_zone</th>\n",
       "      <th></th>\n",
       "      <th></th>\n",
       "      <th></th>\n",
       "      <th></th>\n",
       "      <th></th>\n",
       "      <th></th>\n",
       "      <th></th>\n",
       "      <th></th>\n",
       "      <th></th>\n",
       "      <th></th>\n",
       "      <th></th>\n",
       "      <th></th>\n",
       "      <th></th>\n",
       "    </tr>\n",
       "  </thead>\n",
       "  <tbody>\n",
       "    <tr>\n",
       "      <th>Oakland Gardens</th>\n",
       "      <td>1.5</td>\n",
       "      <td>5.05</td>\n",
       "      <td>66.75</td>\n",
       "      <td>10.325</td>\n",
       "      <td>0.0</td>\n",
       "      <td>77.875</td>\n",
       "      <td>14.5</td>\n",
       "      <td>11.908333</td>\n",
       "      <td>0.8</td>\n",
       "      <td>89.504987</td>\n",
       "      <td>0.0</td>\n",
       "      <td>8.329972</td>\n",
       "      <td>2.165042</td>\n",
       "    </tr>\n",
       "  </tbody>\n",
       "</table>\n",
       "</div>"
      ],
      "text/plain": [
       "                 passengers  distance   fare     tip  tolls   total  \\\n",
       "dropoff_zone                                                          \n",
       "Oakland Gardens         1.5      5.05  66.75  10.325    0.0  77.875   \n",
       "\n",
       "                 pickup_hour  trip_duration_minutes  miscellinious  \\\n",
       "dropoff_zone                                                         \n",
       "Oakland Gardens         14.5              11.908333            0.8   \n",
       "\n",
       "                 fare_percent  tolls_percent  tip_percent  \\\n",
       "dropoff_zone                                                \n",
       "Oakland Gardens     89.504987            0.0     8.329972   \n",
       "\n",
       "                 miscellinious_percent  \n",
       "dropoff_zone                            \n",
       "Oakland Gardens               2.165042  "
      ]
     },
     "execution_count": 308,
     "metadata": {},
     "output_type": "execute_result"
    }
   ],
   "source": [
    "df.groupby(['dropoff_zone']).mean(numeric_only=True).sort_values(['fare'],ascending=False).head(1)"
   ]
  },
  {
   "cell_type": "code",
   "execution_count": 309,
   "id": "9548eb91",
   "metadata": {},
   "outputs": [
    {
     "data": {
      "text/plain": [
       "Index(['pickup', 'dropoff', 'passengers', 'distance', 'fare', 'tip', 'tolls',\n",
       "       'total', 'color', 'payment', 'pickup_zone', 'dropoff_zone',\n",
       "       'pickup_borough', 'dropoff_borough', 'day_name', 'pickup_hour',\n",
       "       'trip_duration', 'trip_duration_minutes', 'miscellinious',\n",
       "       'fare_percent', 'tolls_percent', 'tip_percent',\n",
       "       'miscellinious_percent'],\n",
       "      dtype='object')"
      ]
     },
     "execution_count": 309,
     "metadata": {},
     "output_type": "execute_result"
    }
   ],
   "source": [
    "df.columns"
   ]
  },
  {
   "cell_type": "code",
   "execution_count": 314,
   "id": "33b238fd",
   "metadata": {},
   "outputs": [],
   "source": [
    "#What is the overall revenue generated during a specific time period (e.g., a day)"
   ]
  },
  {
   "cell_type": "code",
   "execution_count": 313,
   "id": "ee885110",
   "metadata": {},
   "outputs": [],
   "source": [
    "df['pickup_day'] = df['pickup'].dt.day"
   ]
  },
  {
   "cell_type": "code",
   "execution_count": 315,
   "id": "ebcc7404",
   "metadata": {},
   "outputs": [
    {
     "data": {
      "text/html": [
       "<div>\n",
       "<style scoped>\n",
       "    .dataframe tbody tr th:only-of-type {\n",
       "        vertical-align: middle;\n",
       "    }\n",
       "\n",
       "    .dataframe tbody tr th {\n",
       "        vertical-align: top;\n",
       "    }\n",
       "\n",
       "    .dataframe thead th {\n",
       "        text-align: right;\n",
       "    }\n",
       "</style>\n",
       "<table border=\"1\" class=\"dataframe\">\n",
       "  <thead>\n",
       "    <tr style=\"text-align: right;\">\n",
       "      <th></th>\n",
       "      <th>fare</th>\n",
       "    </tr>\n",
       "    <tr>\n",
       "      <th>pickup_day</th>\n",
       "      <th></th>\n",
       "    </tr>\n",
       "  </thead>\n",
       "  <tbody>\n",
       "    <tr>\n",
       "      <th>1</th>\n",
       "      <td>2946.97</td>\n",
       "    </tr>\n",
       "    <tr>\n",
       "      <th>2</th>\n",
       "      <td>2358.00</td>\n",
       "    </tr>\n",
       "    <tr>\n",
       "      <th>3</th>\n",
       "      <td>2187.89</td>\n",
       "    </tr>\n",
       "    <tr>\n",
       "      <th>4</th>\n",
       "      <td>2335.74</td>\n",
       "    </tr>\n",
       "    <tr>\n",
       "      <th>5</th>\n",
       "      <td>3137.97</td>\n",
       "    </tr>\n",
       "    <tr>\n",
       "      <th>6</th>\n",
       "      <td>3269.70</td>\n",
       "    </tr>\n",
       "    <tr>\n",
       "      <th>7</th>\n",
       "      <td>2898.64</td>\n",
       "    </tr>\n",
       "    <tr>\n",
       "      <th>8</th>\n",
       "      <td>3168.50</td>\n",
       "    </tr>\n",
       "    <tr>\n",
       "      <th>9</th>\n",
       "      <td>2741.05</td>\n",
       "    </tr>\n",
       "    <tr>\n",
       "      <th>10</th>\n",
       "      <td>2270.42</td>\n",
       "    </tr>\n",
       "    <tr>\n",
       "      <th>11</th>\n",
       "      <td>2883.75</td>\n",
       "    </tr>\n",
       "    <tr>\n",
       "      <th>12</th>\n",
       "      <td>2676.09</td>\n",
       "    </tr>\n",
       "    <tr>\n",
       "      <th>13</th>\n",
       "      <td>3473.83</td>\n",
       "    </tr>\n",
       "    <tr>\n",
       "      <th>14</th>\n",
       "      <td>3352.39</td>\n",
       "    </tr>\n",
       "    <tr>\n",
       "      <th>15</th>\n",
       "      <td>2865.81</td>\n",
       "    </tr>\n",
       "    <tr>\n",
       "      <th>16</th>\n",
       "      <td>2775.28</td>\n",
       "    </tr>\n",
       "    <tr>\n",
       "      <th>17</th>\n",
       "      <td>2462.00</td>\n",
       "    </tr>\n",
       "    <tr>\n",
       "      <th>18</th>\n",
       "      <td>2252.00</td>\n",
       "    </tr>\n",
       "    <tr>\n",
       "      <th>19</th>\n",
       "      <td>2876.50</td>\n",
       "    </tr>\n",
       "    <tr>\n",
       "      <th>20</th>\n",
       "      <td>3232.18</td>\n",
       "    </tr>\n",
       "    <tr>\n",
       "      <th>21</th>\n",
       "      <td>3023.28</td>\n",
       "    </tr>\n",
       "    <tr>\n",
       "      <th>22</th>\n",
       "      <td>3008.64</td>\n",
       "    </tr>\n",
       "    <tr>\n",
       "      <th>23</th>\n",
       "      <td>2388.43</td>\n",
       "    </tr>\n",
       "    <tr>\n",
       "      <th>24</th>\n",
       "      <td>1823.72</td>\n",
       "    </tr>\n",
       "    <tr>\n",
       "      <th>25</th>\n",
       "      <td>2000.59</td>\n",
       "    </tr>\n",
       "    <tr>\n",
       "      <th>26</th>\n",
       "      <td>2305.28</td>\n",
       "    </tr>\n",
       "    <tr>\n",
       "      <th>27</th>\n",
       "      <td>3115.64</td>\n",
       "    </tr>\n",
       "    <tr>\n",
       "      <th>28</th>\n",
       "      <td>2757.57</td>\n",
       "    </tr>\n",
       "    <tr>\n",
       "      <th>29</th>\n",
       "      <td>2642.98</td>\n",
       "    </tr>\n",
       "    <tr>\n",
       "      <th>30</th>\n",
       "      <td>2798.60</td>\n",
       "    </tr>\n",
       "    <tr>\n",
       "      <th>31</th>\n",
       "      <td>2180.43</td>\n",
       "    </tr>\n",
       "  </tbody>\n",
       "</table>\n",
       "</div>"
      ],
      "text/plain": [
       "               fare\n",
       "pickup_day         \n",
       "1           2946.97\n",
       "2           2358.00\n",
       "3           2187.89\n",
       "4           2335.74\n",
       "5           3137.97\n",
       "6           3269.70\n",
       "7           2898.64\n",
       "8           3168.50\n",
       "9           2741.05\n",
       "10          2270.42\n",
       "11          2883.75\n",
       "12          2676.09\n",
       "13          3473.83\n",
       "14          3352.39\n",
       "15          2865.81\n",
       "16          2775.28\n",
       "17          2462.00\n",
       "18          2252.00\n",
       "19          2876.50\n",
       "20          3232.18\n",
       "21          3023.28\n",
       "22          3008.64\n",
       "23          2388.43\n",
       "24          1823.72\n",
       "25          2000.59\n",
       "26          2305.28\n",
       "27          3115.64\n",
       "28          2757.57\n",
       "29          2642.98\n",
       "30          2798.60\n",
       "31          2180.43"
      ]
     },
     "execution_count": 315,
     "metadata": {},
     "output_type": "execute_result"
    }
   ],
   "source": [
    "df.groupby(['pickup_day']).sum(numeric_only=True)[['fare']]"
   ]
  },
  {
   "cell_type": "code",
   "execution_count": 316,
   "id": "914bd289",
   "metadata": {},
   "outputs": [],
   "source": [
    "#What are the most common pickup and dropoff time slots during the day? "
   ]
  },
  {
   "cell_type": "code",
   "execution_count": 323,
   "id": "ca026f15",
   "metadata": {},
   "outputs": [
    {
     "data": {
      "text/html": [
       "<div>\n",
       "<style scoped>\n",
       "    .dataframe tbody tr th:only-of-type {\n",
       "        vertical-align: middle;\n",
       "    }\n",
       "\n",
       "    .dataframe tbody tr th {\n",
       "        vertical-align: top;\n",
       "    }\n",
       "\n",
       "    .dataframe thead th {\n",
       "        text-align: right;\n",
       "    }\n",
       "</style>\n",
       "<table border=\"1\" class=\"dataframe\">\n",
       "  <thead>\n",
       "    <tr style=\"text-align: right;\">\n",
       "      <th></th>\n",
       "      <th>pickup</th>\n",
       "      <th>dropoff</th>\n",
       "      <th>passengers</th>\n",
       "      <th>distance</th>\n",
       "      <th>fare</th>\n",
       "      <th>tip</th>\n",
       "      <th>tolls</th>\n",
       "      <th>total</th>\n",
       "      <th>color</th>\n",
       "      <th>payment</th>\n",
       "      <th>...</th>\n",
       "      <th>dropoff_borough</th>\n",
       "      <th>day_name</th>\n",
       "      <th>trip_duration</th>\n",
       "      <th>trip_duration_minutes</th>\n",
       "      <th>miscellinious</th>\n",
       "      <th>fare_percent</th>\n",
       "      <th>tolls_percent</th>\n",
       "      <th>tip_percent</th>\n",
       "      <th>miscellinious_percent</th>\n",
       "      <th>pickup_day</th>\n",
       "    </tr>\n",
       "    <tr>\n",
       "      <th>pickup_hour</th>\n",
       "      <th></th>\n",
       "      <th></th>\n",
       "      <th></th>\n",
       "      <th></th>\n",
       "      <th></th>\n",
       "      <th></th>\n",
       "      <th></th>\n",
       "      <th></th>\n",
       "      <th></th>\n",
       "      <th></th>\n",
       "      <th></th>\n",
       "      <th></th>\n",
       "      <th></th>\n",
       "      <th></th>\n",
       "      <th></th>\n",
       "      <th></th>\n",
       "      <th></th>\n",
       "      <th></th>\n",
       "      <th></th>\n",
       "      <th></th>\n",
       "      <th></th>\n",
       "    </tr>\n",
       "  </thead>\n",
       "  <tbody>\n",
       "    <tr>\n",
       "      <th>18</th>\n",
       "      <td>417</td>\n",
       "      <td>417</td>\n",
       "      <td>417</td>\n",
       "      <td>417</td>\n",
       "      <td>417</td>\n",
       "      <td>417</td>\n",
       "      <td>417</td>\n",
       "      <td>417</td>\n",
       "      <td>417</td>\n",
       "      <td>417</td>\n",
       "      <td>...</td>\n",
       "      <td>417</td>\n",
       "      <td>417</td>\n",
       "      <td>417</td>\n",
       "      <td>417</td>\n",
       "      <td>417</td>\n",
       "      <td>417</td>\n",
       "      <td>417</td>\n",
       "      <td>417</td>\n",
       "      <td>417</td>\n",
       "      <td>417</td>\n",
       "    </tr>\n",
       "  </tbody>\n",
       "</table>\n",
       "<p>1 rows × 23 columns</p>\n",
       "</div>"
      ],
      "text/plain": [
       "             pickup  dropoff  passengers  distance  fare  tip  tolls  total  \\\n",
       "pickup_hour                                                                   \n",
       "18              417      417         417       417   417  417    417    417   \n",
       "\n",
       "             color  payment  ...  dropoff_borough  day_name  trip_duration  \\\n",
       "pickup_hour                  ...                                             \n",
       "18             417      417  ...              417       417            417   \n",
       "\n",
       "             trip_duration_minutes  miscellinious  fare_percent  \\\n",
       "pickup_hour                                                       \n",
       "18                             417            417           417   \n",
       "\n",
       "             tolls_percent  tip_percent  miscellinious_percent  pickup_day  \n",
       "pickup_hour                                                                 \n",
       "18                     417          417                    417         417  \n",
       "\n",
       "[1 rows x 23 columns]"
      ]
     },
     "execution_count": 323,
     "metadata": {},
     "output_type": "execute_result"
    }
   ],
   "source": [
    "df.groupby(df['pickup_hour']).count().sort_values(['pickup'],ascending=False).head(1)"
   ]
  },
  {
   "cell_type": "code",
   "execution_count": 324,
   "id": "f5c8b6c5",
   "metadata": {},
   "outputs": [
    {
     "data": {
      "text/html": [
       "<div>\n",
       "<style scoped>\n",
       "    .dataframe tbody tr th:only-of-type {\n",
       "        vertical-align: middle;\n",
       "    }\n",
       "\n",
       "    .dataframe tbody tr th {\n",
       "        vertical-align: top;\n",
       "    }\n",
       "\n",
       "    .dataframe thead th {\n",
       "        text-align: right;\n",
       "    }\n",
       "</style>\n",
       "<table border=\"1\" class=\"dataframe\">\n",
       "  <thead>\n",
       "    <tr style=\"text-align: right;\">\n",
       "      <th></th>\n",
       "      <th>pickup</th>\n",
       "      <th>dropoff</th>\n",
       "      <th>passengers</th>\n",
       "      <th>distance</th>\n",
       "      <th>fare</th>\n",
       "      <th>tip</th>\n",
       "      <th>tolls</th>\n",
       "      <th>total</th>\n",
       "      <th>color</th>\n",
       "      <th>payment</th>\n",
       "      <th>...</th>\n",
       "      <th>dropoff_borough</th>\n",
       "      <th>day_name</th>\n",
       "      <th>trip_duration</th>\n",
       "      <th>trip_duration_minutes</th>\n",
       "      <th>miscellinious</th>\n",
       "      <th>fare_percent</th>\n",
       "      <th>tolls_percent</th>\n",
       "      <th>tip_percent</th>\n",
       "      <th>miscellinious_percent</th>\n",
       "      <th>pickup_day</th>\n",
       "    </tr>\n",
       "    <tr>\n",
       "      <th>pickup_hour</th>\n",
       "      <th></th>\n",
       "      <th></th>\n",
       "      <th></th>\n",
       "      <th></th>\n",
       "      <th></th>\n",
       "      <th></th>\n",
       "      <th></th>\n",
       "      <th></th>\n",
       "      <th></th>\n",
       "      <th></th>\n",
       "      <th></th>\n",
       "      <th></th>\n",
       "      <th></th>\n",
       "      <th></th>\n",
       "      <th></th>\n",
       "      <th></th>\n",
       "      <th></th>\n",
       "      <th></th>\n",
       "      <th></th>\n",
       "      <th></th>\n",
       "      <th></th>\n",
       "    </tr>\n",
       "  </thead>\n",
       "  <tbody>\n",
       "    <tr>\n",
       "      <th>5</th>\n",
       "      <td>51</td>\n",
       "      <td>51</td>\n",
       "      <td>51</td>\n",
       "      <td>51</td>\n",
       "      <td>51</td>\n",
       "      <td>51</td>\n",
       "      <td>51</td>\n",
       "      <td>51</td>\n",
       "      <td>51</td>\n",
       "      <td>51</td>\n",
       "      <td>...</td>\n",
       "      <td>51</td>\n",
       "      <td>51</td>\n",
       "      <td>51</td>\n",
       "      <td>51</td>\n",
       "      <td>51</td>\n",
       "      <td>51</td>\n",
       "      <td>51</td>\n",
       "      <td>51</td>\n",
       "      <td>51</td>\n",
       "      <td>51</td>\n",
       "    </tr>\n",
       "  </tbody>\n",
       "</table>\n",
       "<p>1 rows × 23 columns</p>\n",
       "</div>"
      ],
      "text/plain": [
       "             pickup  dropoff  passengers  distance  fare  tip  tolls  total  \\\n",
       "pickup_hour                                                                   \n",
       "5                51       51          51        51    51   51     51     51   \n",
       "\n",
       "             color  payment  ...  dropoff_borough  day_name  trip_duration  \\\n",
       "pickup_hour                  ...                                             \n",
       "5               51       51  ...               51        51             51   \n",
       "\n",
       "             trip_duration_minutes  miscellinious  fare_percent  \\\n",
       "pickup_hour                                                       \n",
       "5                               51             51            51   \n",
       "\n",
       "             tolls_percent  tip_percent  miscellinious_percent  pickup_day  \n",
       "pickup_hour                                                                 \n",
       "5                       51           51                     51          51  \n",
       "\n",
       "[1 rows x 23 columns]"
      ]
     },
     "execution_count": 324,
     "metadata": {},
     "output_type": "execute_result"
    }
   ],
   "source": [
    "df.groupby(df['pickup_hour']).count().sort_values(['pickup'],ascending=True).head(1)"
   ]
  },
  {
   "cell_type": "code",
   "execution_count": 325,
   "id": "1d58550a",
   "metadata": {},
   "outputs": [],
   "source": [
    "#What is the average fare per passenger based on the number of passengers in a ride?"
   ]
  },
  {
   "cell_type": "code",
   "execution_count": 333,
   "id": "184d4a67",
   "metadata": {},
   "outputs": [],
   "source": [
    "df['average_fare'] = df['fare']/df['passengers']"
   ]
  },
  {
   "cell_type": "code",
   "execution_count": 336,
   "id": "bda802c4",
   "metadata": {},
   "outputs": [],
   "source": [
    "#Do different taxi colors have different average trip distances?"
   ]
  },
  {
   "cell_type": "code",
   "execution_count": 339,
   "id": "f4a26880",
   "metadata": {},
   "outputs": [
    {
     "data": {
      "text/html": [
       "<div>\n",
       "<style scoped>\n",
       "    .dataframe tbody tr th:only-of-type {\n",
       "        vertical-align: middle;\n",
       "    }\n",
       "\n",
       "    .dataframe tbody tr th {\n",
       "        vertical-align: top;\n",
       "    }\n",
       "\n",
       "    .dataframe thead th {\n",
       "        text-align: right;\n",
       "    }\n",
       "</style>\n",
       "<table border=\"1\" class=\"dataframe\">\n",
       "  <thead>\n",
       "    <tr style=\"text-align: right;\">\n",
       "      <th></th>\n",
       "      <th>distance</th>\n",
       "    </tr>\n",
       "    <tr>\n",
       "      <th>color</th>\n",
       "      <th></th>\n",
       "    </tr>\n",
       "  </thead>\n",
       "  <tbody>\n",
       "    <tr>\n",
       "      <th>green</th>\n",
       "      <td>3.409837</td>\n",
       "    </tr>\n",
       "    <tr>\n",
       "      <th>yellow</th>\n",
       "      <td>2.955680</td>\n",
       "    </tr>\n",
       "  </tbody>\n",
       "</table>\n",
       "</div>"
      ],
      "text/plain": [
       "        distance\n",
       "color           \n",
       "green   3.409837\n",
       "yellow  2.955680"
      ]
     },
     "execution_count": 339,
     "metadata": {},
     "output_type": "execute_result"
    }
   ],
   "source": [
    "df.groupby(['color']).mean(numeric_only=True)[['distance']]"
   ]
  },
  {
   "cell_type": "code",
   "execution_count": 340,
   "id": "b9c6cefc",
   "metadata": {},
   "outputs": [],
   "source": [
    "#What are the most popular pickup and dropoff combinations?"
   ]
  },
  {
   "cell_type": "code",
   "execution_count": 345,
   "id": "4c59d6b3",
   "metadata": {},
   "outputs": [
    {
     "data": {
      "text/html": [
       "<div>\n",
       "<style scoped>\n",
       "    .dataframe tbody tr th:only-of-type {\n",
       "        vertical-align: middle;\n",
       "    }\n",
       "\n",
       "    .dataframe tbody tr th {\n",
       "        vertical-align: top;\n",
       "    }\n",
       "\n",
       "    .dataframe thead th {\n",
       "        text-align: right;\n",
       "    }\n",
       "</style>\n",
       "<table border=\"1\" class=\"dataframe\">\n",
       "  <thead>\n",
       "    <tr style=\"text-align: right;\">\n",
       "      <th></th>\n",
       "      <th></th>\n",
       "      <th>pickup</th>\n",
       "    </tr>\n",
       "    <tr>\n",
       "      <th>pickup_zone</th>\n",
       "      <th>dropoff_zone</th>\n",
       "      <th></th>\n",
       "    </tr>\n",
       "  </thead>\n",
       "  <tbody>\n",
       "    <tr>\n",
       "      <th>Upper East Side North</th>\n",
       "      <th>Upper East Side North</th>\n",
       "      <td>38</td>\n",
       "    </tr>\n",
       "    <tr>\n",
       "      <th>Upper East Side South</th>\n",
       "      <th>Upper East Side North</th>\n",
       "      <td>30</td>\n",
       "    </tr>\n",
       "    <tr>\n",
       "      <th>Astoria</th>\n",
       "      <th>Astoria</th>\n",
       "      <td>24</td>\n",
       "    </tr>\n",
       "    <tr>\n",
       "      <th>Upper East Side North</th>\n",
       "      <th>Upper East Side South</th>\n",
       "      <td>23</td>\n",
       "    </tr>\n",
       "    <tr>\n",
       "      <th>Central Harlem</th>\n",
       "      <th>Central Harlem North</th>\n",
       "      <td>20</td>\n",
       "    </tr>\n",
       "  </tbody>\n",
       "</table>\n",
       "</div>"
      ],
      "text/plain": [
       "                                             pickup\n",
       "pickup_zone           dropoff_zone                 \n",
       "Upper East Side North Upper East Side North      38\n",
       "Upper East Side South Upper East Side North      30\n",
       "Astoria               Astoria                    24\n",
       "Upper East Side North Upper East Side South      23\n",
       "Central Harlem        Central Harlem North       20"
      ]
     },
     "execution_count": 345,
     "metadata": {},
     "output_type": "execute_result"
    }
   ],
   "source": [
    "df.groupby(['pickup_zone','dropoff_zone']).count().sort_values(['pickup'],ascending=False).head(5)[['pickup']]"
   ]
  },
  {
   "cell_type": "code",
   "execution_count": 346,
   "id": "b781cc50",
   "metadata": {},
   "outputs": [
    {
     "data": {
      "text/html": [
       "<div>\n",
       "<style scoped>\n",
       "    .dataframe tbody tr th:only-of-type {\n",
       "        vertical-align: middle;\n",
       "    }\n",
       "\n",
       "    .dataframe tbody tr th {\n",
       "        vertical-align: top;\n",
       "    }\n",
       "\n",
       "    .dataframe thead th {\n",
       "        text-align: right;\n",
       "    }\n",
       "</style>\n",
       "<table border=\"1\" class=\"dataframe\">\n",
       "  <thead>\n",
       "    <tr style=\"text-align: right;\">\n",
       "      <th></th>\n",
       "      <th></th>\n",
       "      <th>pickup</th>\n",
       "    </tr>\n",
       "    <tr>\n",
       "      <th>pickup_borough</th>\n",
       "      <th>dropoff_borough</th>\n",
       "      <th></th>\n",
       "    </tr>\n",
       "  </thead>\n",
       "  <tbody>\n",
       "    <tr>\n",
       "      <th>Manhattan</th>\n",
       "      <th>Manhattan</th>\n",
       "      <td>4912</td>\n",
       "    </tr>\n",
       "    <tr>\n",
       "      <th>Queens</th>\n",
       "      <th>Queens</th>\n",
       "      <td>350</td>\n",
       "    </tr>\n",
       "    <tr>\n",
       "      <th>Brooklyn</th>\n",
       "      <th>Brooklyn</th>\n",
       "      <td>289</td>\n",
       "    </tr>\n",
       "    <tr>\n",
       "      <th>Queens</th>\n",
       "      <th>Manhattan</th>\n",
       "      <td>229</td>\n",
       "    </tr>\n",
       "    <tr>\n",
       "      <th>Manhattan</th>\n",
       "      <th>Queens</th>\n",
       "      <td>163</td>\n",
       "    </tr>\n",
       "  </tbody>\n",
       "</table>\n",
       "</div>"
      ],
      "text/plain": [
       "                                pickup\n",
       "pickup_borough dropoff_borough        \n",
       "Manhattan      Manhattan          4912\n",
       "Queens         Queens              350\n",
       "Brooklyn       Brooklyn            289\n",
       "Queens         Manhattan           229\n",
       "Manhattan      Queens              163"
      ]
     },
     "execution_count": 346,
     "metadata": {},
     "output_type": "execute_result"
    }
   ],
   "source": [
    "df.groupby(['pickup_borough','dropoff_borough']).count().sort_values(['pickup'],ascending=False).head(5)[['pickup']]"
   ]
  },
  {
   "cell_type": "code",
   "execution_count": 351,
   "id": "7313666b",
   "metadata": {},
   "outputs": [],
   "source": [
    "#Is there any difference in the fare for trips within the same zone compared to trips between different zone? "
   ]
  },
  {
   "cell_type": "code",
   "execution_count": 352,
   "id": "98c65b0c",
   "metadata": {},
   "outputs": [
    {
     "data": {
      "text/html": [
       "<div>\n",
       "<style scoped>\n",
       "    .dataframe tbody tr th:only-of-type {\n",
       "        vertical-align: middle;\n",
       "    }\n",
       "\n",
       "    .dataframe tbody tr th {\n",
       "        vertical-align: top;\n",
       "    }\n",
       "\n",
       "    .dataframe thead th {\n",
       "        text-align: right;\n",
       "    }\n",
       "</style>\n",
       "<table border=\"1\" class=\"dataframe\">\n",
       "  <thead>\n",
       "    <tr style=\"text-align: right;\">\n",
       "      <th></th>\n",
       "      <th>pickup_zone</th>\n",
       "      <th>dropoff_zone</th>\n",
       "      <th>fare</th>\n",
       "    </tr>\n",
       "  </thead>\n",
       "  <tbody>\n",
       "    <tr>\n",
       "      <th>3119</th>\n",
       "      <td>Allerton/Pelham Gardens</td>\n",
       "      <td>Clinton Hill</td>\n",
       "      <td>54.16</td>\n",
       "    </tr>\n",
       "    <tr>\n",
       "      <th>5441</th>\n",
       "      <td>Allerton/Pelham Gardens</td>\n",
       "      <td>Co-Op City</td>\n",
       "      <td>10.50</td>\n",
       "    </tr>\n",
       "    <tr>\n",
       "      <th>3034</th>\n",
       "      <td>Alphabet City</td>\n",
       "      <td>East Village</td>\n",
       "      <td>7.00</td>\n",
       "    </tr>\n",
       "    <tr>\n",
       "      <th>4014</th>\n",
       "      <td>Alphabet City</td>\n",
       "      <td>Greenwich Village North</td>\n",
       "      <td>10.00</td>\n",
       "    </tr>\n",
       "    <tr>\n",
       "      <th>4969</th>\n",
       "      <td>Alphabet City</td>\n",
       "      <td>Greenwich Village South</td>\n",
       "      <td>7.50</td>\n",
       "    </tr>\n",
       "    <tr>\n",
       "      <th>...</th>\n",
       "      <td>...</td>\n",
       "      <td>...</td>\n",
       "      <td>...</td>\n",
       "    </tr>\n",
       "    <tr>\n",
       "      <th>3412</th>\n",
       "      <td>Yorkville West</td>\n",
       "      <td>Yorkville West</td>\n",
       "      <td>4.50</td>\n",
       "    </tr>\n",
       "    <tr>\n",
       "      <th>4545</th>\n",
       "      <td>Yorkville West</td>\n",
       "      <td>Yorkville West</td>\n",
       "      <td>5.50</td>\n",
       "    </tr>\n",
       "    <tr>\n",
       "      <th>5274</th>\n",
       "      <td>Yorkville West</td>\n",
       "      <td>Yorkville West</td>\n",
       "      <td>3.50</td>\n",
       "    </tr>\n",
       "    <tr>\n",
       "      <th>5795</th>\n",
       "      <td>Yorkville West</td>\n",
       "      <td>Yorkville West</td>\n",
       "      <td>4.00</td>\n",
       "    </tr>\n",
       "    <tr>\n",
       "      <th>5943</th>\n",
       "      <td>Yorkville West</td>\n",
       "      <td>Yorkville West</td>\n",
       "      <td>3.00</td>\n",
       "    </tr>\n",
       "  </tbody>\n",
       "</table>\n",
       "<p>6432 rows × 3 columns</p>\n",
       "</div>"
      ],
      "text/plain": [
       "                  pickup_zone             dropoff_zone   fare\n",
       "3119  Allerton/Pelham Gardens             Clinton Hill  54.16\n",
       "5441  Allerton/Pelham Gardens               Co-Op City  10.50\n",
       "3034            Alphabet City             East Village   7.00\n",
       "4014            Alphabet City  Greenwich Village North  10.00\n",
       "4969            Alphabet City  Greenwich Village South   7.50\n",
       "...                       ...                      ...    ...\n",
       "3412           Yorkville West           Yorkville West   4.50\n",
       "4545           Yorkville West           Yorkville West   5.50\n",
       "5274           Yorkville West           Yorkville West   3.50\n",
       "5795           Yorkville West           Yorkville West   4.00\n",
       "5943           Yorkville West           Yorkville West   3.00\n",
       "\n",
       "[6432 rows x 3 columns]"
      ]
     },
     "execution_count": 352,
     "metadata": {},
     "output_type": "execute_result"
    }
   ],
   "source": [
    "df.sort_values(['pickup_zone','dropoff_zone'])[['pickup_zone','dropoff_zone','fare']]"
   ]
  },
  {
   "cell_type": "code",
   "execution_count": 353,
   "id": "3b24390f",
   "metadata": {},
   "outputs": [],
   "source": [
    "#Is there any difference in the fare for trips within the same zone compared to trips between different zone? \n",
    "#Yes there is!!"
   ]
  },
  {
   "cell_type": "code",
   "execution_count": null,
   "id": "ce4f95e8",
   "metadata": {},
   "outputs": [],
   "source": []
  }
 ],
 "metadata": {
  "kernelspec": {
   "display_name": "Python 3 (ipykernel)",
   "language": "python",
   "name": "python3"
  },
  "language_info": {
   "codemirror_mode": {
    "name": "ipython",
    "version": 3
   },
   "file_extension": ".py",
   "mimetype": "text/x-python",
   "name": "python",
   "nbconvert_exporter": "python",
   "pygments_lexer": "ipython3",
   "version": "3.10.9"
  }
 },
 "nbformat": 4,
 "nbformat_minor": 5
}
